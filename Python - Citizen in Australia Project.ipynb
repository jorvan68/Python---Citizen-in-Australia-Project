{
 "cells": [
  {
   "cell_type": "code",
   "execution_count": 1,
   "metadata": {},
   "outputs": [],
   "source": [
    "import pandas as pd\n",
    "import numpy as np\n",
    "import itertools\n",
    "import matplotlib.pyplot as plt\n",
    "import seaborn as sns\n",
    "import plotly.express as px\n",
    "\n",
    "#prep\n",
    "from sklearn.model_selection import train_test_split, GridSearchCV, RandomizedSearchCV\n",
    "from sklearn.preprocessing import LabelEncoder, StandardScaler, MaxAbsScaler, QuantileTransformer\n",
    "\n",
    "#models\n",
    "from sklearn.linear_model import LogisticRegression, LogisticRegressionCV, LinearRegression, Ridge, RidgeCV\n",
    "from sklearn.tree import DecisionTreeRegressor\n",
    "from sklearn.ensemble import RandomForestRegressor\n",
    "\n",
    "#validation libraries\n",
    "#from sklearn.cross_validation import KFold, StratifiedKFold\n",
    "from sklearn.model_selection import KFold, StratifiedKFold\n",
    "from IPython.display import display\n",
    "from sklearn import metrics\n",
    "\n",
    "from motionchart.motionchart import MotionChart, MotionChartDemo\n",
    "\n",
    "import warnings\n",
    "warnings.filterwarnings('ignore')\n",
    "\n",
    "%matplotlib inline"
   ]
  },
  {
   "cell_type": "markdown",
   "metadata": {},
   "source": [
    "<a id='section1'></a>\n",
    "\n",
    "# **1. Load Data**\n",
    "\n",
    "So in this kernel, I have 3 datasets to analyze the relationship between Price Index House, Population and Unemployement Rate in Australian states. \n",
    "\n",
    "I also have 1 dataset manual mapping that I have made for key join one to another datashet"
   ]
  },
  {
   "cell_type": "code",
   "execution_count": 2,
   "metadata": {},
   "outputs": [],
   "source": [
    "index_df = pd.read_csv('../Dataset Briston/House Price Index.csv')\n",
    "pop_df = pd.read_csv('../ERP_by state and gender.csv')\n",
    "mapping = pd.read_excel('../mapping_dataset.xlsx')\n",
    "unemp_df = pd.read_excel('../SA4 Time Series - October 2016.xlsx','Time Series')"
   ]
  },
  {
   "cell_type": "markdown",
   "metadata": {},
   "source": [
    "<a id='section2'></a>\n",
    "\n",
    "# **2. Data Wrangling**\n",
    "\n",
    "Change the format dataframe from column into row"
   ]
  },
  {
   "cell_type": "markdown",
   "metadata": {},
   "source": [
    "### 2A. House Price Index"
   ]
  },
  {
   "cell_type": "code",
   "execution_count": 3,
   "metadata": {},
   "outputs": [
    {
     "data": {
      "text/html": [
       "<div>\n",
       "<style scoped>\n",
       "    .dataframe tbody tr th:only-of-type {\n",
       "        vertical-align: middle;\n",
       "    }\n",
       "\n",
       "    .dataframe tbody tr th {\n",
       "        vertical-align: top;\n",
       "    }\n",
       "\n",
       "    .dataframe thead th {\n",
       "        text-align: right;\n",
       "    }\n",
       "</style>\n",
       "<table border=\"1\" class=\"dataframe\">\n",
       "  <thead>\n",
       "    <tr style=\"text-align: right;\">\n",
       "      <th></th>\n",
       "      <th>Unnamed: 0</th>\n",
       "      <th>Residential Property Price Index ;  Sydney ;</th>\n",
       "      <th>Residential Property Price Index ;  Melbourne ;</th>\n",
       "      <th>Residential Property Price Index ;  Brisbane ;</th>\n",
       "      <th>Residential Property Price Index ;  Adelaide ;</th>\n",
       "      <th>Residential Property Price Index ;  Perth ;</th>\n",
       "      <th>Residential Property Price Index ;  Hobart ;</th>\n",
       "      <th>Residential Property Price Index ;  Darwin ;</th>\n",
       "      <th>Residential Property Price Index ;  Canberra ;</th>\n",
       "    </tr>\n",
       "  </thead>\n",
       "  <tbody>\n",
       "    <tr>\n",
       "      <th>0</th>\n",
       "      <td>01-Dec-05</td>\n",
       "      <td>81.8</td>\n",
       "      <td>64.0</td>\n",
       "      <td>75.0</td>\n",
       "      <td>71.6</td>\n",
       "      <td>70.0</td>\n",
       "      <td>79.1</td>\n",
       "      <td>60.2</td>\n",
       "      <td>71.7</td>\n",
       "    </tr>\n",
       "    <tr>\n",
       "      <th>1</th>\n",
       "      <td>01-Mar-06</td>\n",
       "      <td>80.8</td>\n",
       "      <td>65.4</td>\n",
       "      <td>75.6</td>\n",
       "      <td>72.2</td>\n",
       "      <td>75.6</td>\n",
       "      <td>81.0</td>\n",
       "      <td>63.2</td>\n",
       "      <td>72.5</td>\n",
       "    </tr>\n",
       "    <tr>\n",
       "      <th>2</th>\n",
       "      <td>01-Jun-06</td>\n",
       "      <td>82.3</td>\n",
       "      <td>67.2</td>\n",
       "      <td>77.5</td>\n",
       "      <td>73.4</td>\n",
       "      <td>86.4</td>\n",
       "      <td>83.4</td>\n",
       "      <td>67.1</td>\n",
       "      <td>74.3</td>\n",
       "    </tr>\n",
       "    <tr>\n",
       "      <th>3</th>\n",
       "      <td>01-Sep-06</td>\n",
       "      <td>82.0</td>\n",
       "      <td>68.1</td>\n",
       "      <td>78.5</td>\n",
       "      <td>73.8</td>\n",
       "      <td>95.1</td>\n",
       "      <td>84.6</td>\n",
       "      <td>67.3</td>\n",
       "      <td>76.0</td>\n",
       "    </tr>\n",
       "    <tr>\n",
       "      <th>4</th>\n",
       "      <td>01-Dec-06</td>\n",
       "      <td>82.7</td>\n",
       "      <td>69.5</td>\n",
       "      <td>80.5</td>\n",
       "      <td>75.7</td>\n",
       "      <td>98.4</td>\n",
       "      <td>86.1</td>\n",
       "      <td>70.5</td>\n",
       "      <td>77.1</td>\n",
       "    </tr>\n",
       "  </tbody>\n",
       "</table>\n",
       "</div>"
      ],
      "text/plain": [
       "  Unnamed: 0  Residential Property Price Index ;  Sydney ;  \\\n",
       "0  01-Dec-05                                          81.8   \n",
       "1  01-Mar-06                                          80.8   \n",
       "2  01-Jun-06                                          82.3   \n",
       "3  01-Sep-06                                          82.0   \n",
       "4  01-Dec-06                                          82.7   \n",
       "\n",
       "   Residential Property Price Index ;  Melbourne ;  \\\n",
       "0                                             64.0   \n",
       "1                                             65.4   \n",
       "2                                             67.2   \n",
       "3                                             68.1   \n",
       "4                                             69.5   \n",
       "\n",
       "   Residential Property Price Index ;  Brisbane ;  \\\n",
       "0                                            75.0   \n",
       "1                                            75.6   \n",
       "2                                            77.5   \n",
       "3                                            78.5   \n",
       "4                                            80.5   \n",
       "\n",
       "   Residential Property Price Index ;  Adelaide ;  \\\n",
       "0                                            71.6   \n",
       "1                                            72.2   \n",
       "2                                            73.4   \n",
       "3                                            73.8   \n",
       "4                                            75.7   \n",
       "\n",
       "   Residential Property Price Index ;  Perth ;  \\\n",
       "0                                         70.0   \n",
       "1                                         75.6   \n",
       "2                                         86.4   \n",
       "3                                         95.1   \n",
       "4                                         98.4   \n",
       "\n",
       "   Residential Property Price Index ;  Hobart ;  \\\n",
       "0                                          79.1   \n",
       "1                                          81.0   \n",
       "2                                          83.4   \n",
       "3                                          84.6   \n",
       "4                                          86.1   \n",
       "\n",
       "   Residential Property Price Index ;  Darwin ;  \\\n",
       "0                                          60.2   \n",
       "1                                          63.2   \n",
       "2                                          67.1   \n",
       "3                                          67.3   \n",
       "4                                          70.5   \n",
       "\n",
       "   Residential Property Price Index ;  Canberra ;  \n",
       "0                                            71.7  \n",
       "1                                            72.5  \n",
       "2                                            74.3  \n",
       "3                                            76.0  \n",
       "4                                            77.1  "
      ]
     },
     "execution_count": 3,
     "metadata": {},
     "output_type": "execute_result"
    }
   ],
   "source": [
    "index_df.head()"
   ]
  },
  {
   "cell_type": "code",
   "execution_count": 4,
   "metadata": {},
   "outputs": [
    {
     "data": {
      "text/plain": [
       "Index(['Unnamed: 0', 'Residential Property Price Index ;  Sydney ;',\n",
       "       'Residential Property Price Index ;  Melbourne ;',\n",
       "       'Residential Property Price Index ;  Brisbane ;',\n",
       "       'Residential Property Price Index ;  Adelaide ;',\n",
       "       'Residential Property Price Index ;  Perth ;',\n",
       "       'Residential Property Price Index ;  Hobart ;',\n",
       "       'Residential Property Price Index ;  Darwin ;',\n",
       "       'Residential Property Price Index ;  Canberra ;'],\n",
       "      dtype='object')"
      ]
     },
     "execution_count": 4,
     "metadata": {},
     "output_type": "execute_result"
    }
   ],
   "source": [
    "index_df.columns"
   ]
  },
  {
   "cell_type": "code",
   "execution_count": 5,
   "metadata": {},
   "outputs": [
    {
     "data": {
      "text/plain": [
       "Index(['Unnamed: 0', 'Residential Property Price Index ;  Sydney ;',\n",
       "       'Residential Property Price Index ;  Melbourne ;',\n",
       "       'Residential Property Price Index ;  Brisbane ;',\n",
       "       'Residential Property Price Index ;  Adelaide ;',\n",
       "       'Residential Property Price Index ;  Perth ;',\n",
       "       'Residential Property Price Index ;  Hobart ;',\n",
       "       'Residential Property Price Index ;  Darwin ;',\n",
       "       'Residential Property Price Index ;  Canberra ;'],\n",
       "      dtype='object')"
      ]
     },
     "execution_count": 5,
     "metadata": {},
     "output_type": "execute_result"
    }
   ],
   "source": [
    "index_df.columns"
   ]
  },
  {
   "cell_type": "code",
   "execution_count": 6,
   "metadata": {},
   "outputs": [
    {
     "data": {
      "text/plain": [
       "'Melbourne'"
      ]
     },
     "execution_count": 6,
     "metadata": {},
     "output_type": "execute_result"
    }
   ],
   "source": [
    "a = \"Residential Property Price Index ;  Melbourne ;\"\n",
    "a_split = a.split(';')[1].strip()\n",
    "a_split"
   ]
  },
  {
   "cell_type": "markdown",
   "metadata": {},
   "source": [
    "#### Transpose the data first"
   ]
  },
  {
   "cell_type": "code",
   "execution_count": 7,
   "metadata": {},
   "outputs": [
    {
     "data": {
      "text/html": [
       "<div>\n",
       "<style scoped>\n",
       "    .dataframe tbody tr th:only-of-type {\n",
       "        vertical-align: middle;\n",
       "    }\n",
       "\n",
       "    .dataframe tbody tr th {\n",
       "        vertical-align: top;\n",
       "    }\n",
       "\n",
       "    .dataframe thead th {\n",
       "        text-align: right;\n",
       "    }\n",
       "</style>\n",
       "<table border=\"1\" class=\"dataframe\">\n",
       "  <thead>\n",
       "    <tr style=\"text-align: right;\">\n",
       "      <th></th>\n",
       "      <th>Unnamed: 0</th>\n",
       "      <th>Residential Property Price Index ;  Sydney ;</th>\n",
       "      <th>Residential Property Price Index ;  Melbourne ;</th>\n",
       "      <th>Residential Property Price Index ;  Brisbane ;</th>\n",
       "      <th>Residential Property Price Index ;  Adelaide ;</th>\n",
       "      <th>Residential Property Price Index ;  Perth ;</th>\n",
       "      <th>Residential Property Price Index ;  Hobart ;</th>\n",
       "      <th>Residential Property Price Index ;  Darwin ;</th>\n",
       "      <th>Residential Property Price Index ;  Canberra ;</th>\n",
       "    </tr>\n",
       "  </thead>\n",
       "  <tbody>\n",
       "    <tr>\n",
       "      <th>0</th>\n",
       "      <td>01-Dec-05</td>\n",
       "      <td>81.8</td>\n",
       "      <td>64.0</td>\n",
       "      <td>75.0</td>\n",
       "      <td>71.6</td>\n",
       "      <td>70.0</td>\n",
       "      <td>79.1</td>\n",
       "      <td>60.2</td>\n",
       "      <td>71.7</td>\n",
       "    </tr>\n",
       "    <tr>\n",
       "      <th>1</th>\n",
       "      <td>01-Mar-06</td>\n",
       "      <td>80.8</td>\n",
       "      <td>65.4</td>\n",
       "      <td>75.6</td>\n",
       "      <td>72.2</td>\n",
       "      <td>75.6</td>\n",
       "      <td>81.0</td>\n",
       "      <td>63.2</td>\n",
       "      <td>72.5</td>\n",
       "    </tr>\n",
       "    <tr>\n",
       "      <th>2</th>\n",
       "      <td>01-Jun-06</td>\n",
       "      <td>82.3</td>\n",
       "      <td>67.2</td>\n",
       "      <td>77.5</td>\n",
       "      <td>73.4</td>\n",
       "      <td>86.4</td>\n",
       "      <td>83.4</td>\n",
       "      <td>67.1</td>\n",
       "      <td>74.3</td>\n",
       "    </tr>\n",
       "    <tr>\n",
       "      <th>3</th>\n",
       "      <td>01-Sep-06</td>\n",
       "      <td>82.0</td>\n",
       "      <td>68.1</td>\n",
       "      <td>78.5</td>\n",
       "      <td>73.8</td>\n",
       "      <td>95.1</td>\n",
       "      <td>84.6</td>\n",
       "      <td>67.3</td>\n",
       "      <td>76.0</td>\n",
       "    </tr>\n",
       "    <tr>\n",
       "      <th>4</th>\n",
       "      <td>01-Dec-06</td>\n",
       "      <td>82.7</td>\n",
       "      <td>69.5</td>\n",
       "      <td>80.5</td>\n",
       "      <td>75.7</td>\n",
       "      <td>98.4</td>\n",
       "      <td>86.1</td>\n",
       "      <td>70.5</td>\n",
       "      <td>77.1</td>\n",
       "    </tr>\n",
       "  </tbody>\n",
       "</table>\n",
       "</div>"
      ],
      "text/plain": [
       "  Unnamed: 0  Residential Property Price Index ;  Sydney ;  \\\n",
       "0  01-Dec-05                                          81.8   \n",
       "1  01-Mar-06                                          80.8   \n",
       "2  01-Jun-06                                          82.3   \n",
       "3  01-Sep-06                                          82.0   \n",
       "4  01-Dec-06                                          82.7   \n",
       "\n",
       "   Residential Property Price Index ;  Melbourne ;  \\\n",
       "0                                             64.0   \n",
       "1                                             65.4   \n",
       "2                                             67.2   \n",
       "3                                             68.1   \n",
       "4                                             69.5   \n",
       "\n",
       "   Residential Property Price Index ;  Brisbane ;  \\\n",
       "0                                            75.0   \n",
       "1                                            75.6   \n",
       "2                                            77.5   \n",
       "3                                            78.5   \n",
       "4                                            80.5   \n",
       "\n",
       "   Residential Property Price Index ;  Adelaide ;  \\\n",
       "0                                            71.6   \n",
       "1                                            72.2   \n",
       "2                                            73.4   \n",
       "3                                            73.8   \n",
       "4                                            75.7   \n",
       "\n",
       "   Residential Property Price Index ;  Perth ;  \\\n",
       "0                                         70.0   \n",
       "1                                         75.6   \n",
       "2                                         86.4   \n",
       "3                                         95.1   \n",
       "4                                         98.4   \n",
       "\n",
       "   Residential Property Price Index ;  Hobart ;  \\\n",
       "0                                          79.1   \n",
       "1                                          81.0   \n",
       "2                                          83.4   \n",
       "3                                          84.6   \n",
       "4                                          86.1   \n",
       "\n",
       "   Residential Property Price Index ;  Darwin ;  \\\n",
       "0                                          60.2   \n",
       "1                                          63.2   \n",
       "2                                          67.1   \n",
       "3                                          67.3   \n",
       "4                                          70.5   \n",
       "\n",
       "   Residential Property Price Index ;  Canberra ;  \n",
       "0                                            71.7  \n",
       "1                                            72.5  \n",
       "2                                            74.3  \n",
       "3                                            76.0  \n",
       "4                                            77.1  "
      ]
     },
     "execution_count": 7,
     "metadata": {},
     "output_type": "execute_result"
    }
   ],
   "source": [
    "index_df.head(5)"
   ]
  },
  {
   "cell_type": "code",
   "execution_count": 8,
   "metadata": {},
   "outputs": [],
   "source": [
    "index_df = index_df.melt(['Unnamed: 0'], var_name='Location', value_name='Value')\n"
   ]
  },
  {
   "cell_type": "code",
   "execution_count": 9,
   "metadata": {},
   "outputs": [],
   "source": [
    "index_df['Location'] = index_df['Location'].str.split(';', expand = True)[1].str.strip()"
   ]
  },
  {
   "cell_type": "code",
   "execution_count": 10,
   "metadata": {},
   "outputs": [
    {
     "data": {
      "text/html": [
       "<div>\n",
       "<style scoped>\n",
       "    .dataframe tbody tr th:only-of-type {\n",
       "        vertical-align: middle;\n",
       "    }\n",
       "\n",
       "    .dataframe tbody tr th {\n",
       "        vertical-align: top;\n",
       "    }\n",
       "\n",
       "    .dataframe thead th {\n",
       "        text-align: right;\n",
       "    }\n",
       "</style>\n",
       "<table border=\"1\" class=\"dataframe\">\n",
       "  <thead>\n",
       "    <tr style=\"text-align: right;\">\n",
       "      <th></th>\n",
       "      <th>Unnamed: 0</th>\n",
       "      <th>Location</th>\n",
       "      <th>Value</th>\n",
       "    </tr>\n",
       "  </thead>\n",
       "  <tbody>\n",
       "    <tr>\n",
       "      <th>0</th>\n",
       "      <td>01-Dec-05</td>\n",
       "      <td>Sydney</td>\n",
       "      <td>81.8</td>\n",
       "    </tr>\n",
       "    <tr>\n",
       "      <th>1</th>\n",
       "      <td>01-Mar-06</td>\n",
       "      <td>Sydney</td>\n",
       "      <td>80.8</td>\n",
       "    </tr>\n",
       "    <tr>\n",
       "      <th>2</th>\n",
       "      <td>01-Jun-06</td>\n",
       "      <td>Sydney</td>\n",
       "      <td>82.3</td>\n",
       "    </tr>\n",
       "    <tr>\n",
       "      <th>3</th>\n",
       "      <td>01-Sep-06</td>\n",
       "      <td>Sydney</td>\n",
       "      <td>82.0</td>\n",
       "    </tr>\n",
       "    <tr>\n",
       "      <th>4</th>\n",
       "      <td>01-Dec-06</td>\n",
       "      <td>Sydney</td>\n",
       "      <td>82.7</td>\n",
       "    </tr>\n",
       "  </tbody>\n",
       "</table>\n",
       "</div>"
      ],
      "text/plain": [
       "  Unnamed: 0 Location  Value\n",
       "0  01-Dec-05   Sydney   81.8\n",
       "1  01-Mar-06   Sydney   80.8\n",
       "2  01-Jun-06   Sydney   82.3\n",
       "3  01-Sep-06   Sydney   82.0\n",
       "4  01-Dec-06   Sydney   82.7"
      ]
     },
     "execution_count": 10,
     "metadata": {},
     "output_type": "execute_result"
    }
   ],
   "source": [
    "index_df.head(5)"
   ]
  },
  {
   "cell_type": "code",
   "execution_count": 11,
   "metadata": {},
   "outputs": [
    {
     "data": {
      "text/plain": [
       "Index(['Unnamed: 0', 'Location', 'Value'], dtype='object')"
      ]
     },
     "execution_count": 11,
     "metadata": {},
     "output_type": "execute_result"
    }
   ],
   "source": [
    "index_df.columns"
   ]
  },
  {
   "cell_type": "code",
   "execution_count": 12,
   "metadata": {},
   "outputs": [],
   "source": [
    "index_df.columns = ['Date', 'Capital City', 'Index']"
   ]
  },
  {
   "cell_type": "code",
   "execution_count": 13,
   "metadata": {},
   "outputs": [
    {
     "data": {
      "text/plain": [
       "Index(['Date', 'Capital City', 'Index'], dtype='object')"
      ]
     },
     "execution_count": 13,
     "metadata": {},
     "output_type": "execute_result"
    }
   ],
   "source": [
    "index_df.columns"
   ]
  },
  {
   "cell_type": "markdown",
   "metadata": {},
   "source": [
    "#### Convert date"
   ]
  },
  {
   "cell_type": "code",
   "execution_count": 14,
   "metadata": {},
   "outputs": [],
   "source": [
    "index_df['Date'] = pd.to_datetime(index_df['Date']).dt.strftime('%Y-%m-%d')"
   ]
  },
  {
   "cell_type": "code",
   "execution_count": 15,
   "metadata": {},
   "outputs": [
    {
     "data": {
      "text/plain": [
       "0        Sydney\n",
       "1        Sydney\n",
       "2        Sydney\n",
       "3        Sydney\n",
       "4        Sydney\n",
       "         ...   \n",
       "307    Canberra\n",
       "308    Canberra\n",
       "309    Canberra\n",
       "310    Canberra\n",
       "311    Canberra\n",
       "Name: Capital City, Length: 312, dtype: object"
      ]
     },
     "execution_count": 15,
     "metadata": {},
     "output_type": "execute_result"
    }
   ],
   "source": [
    "index_df['Capital City']"
   ]
  },
  {
   "cell_type": "code",
   "execution_count": 16,
   "metadata": {},
   "outputs": [
    {
     "data": {
      "text/html": [
       "<div>\n",
       "<style scoped>\n",
       "    .dataframe tbody tr th:only-of-type {\n",
       "        vertical-align: middle;\n",
       "    }\n",
       "\n",
       "    .dataframe tbody tr th {\n",
       "        vertical-align: top;\n",
       "    }\n",
       "\n",
       "    .dataframe thead th {\n",
       "        text-align: right;\n",
       "    }\n",
       "</style>\n",
       "<table border=\"1\" class=\"dataframe\">\n",
       "  <thead>\n",
       "    <tr style=\"text-align: right;\">\n",
       "      <th></th>\n",
       "      <th>Date</th>\n",
       "      <th>Capital City</th>\n",
       "      <th>Index</th>\n",
       "    </tr>\n",
       "  </thead>\n",
       "  <tbody>\n",
       "    <tr>\n",
       "      <th>0</th>\n",
       "      <td>2005-12-01</td>\n",
       "      <td>Sydney</td>\n",
       "      <td>81.8</td>\n",
       "    </tr>\n",
       "    <tr>\n",
       "      <th>1</th>\n",
       "      <td>2006-03-01</td>\n",
       "      <td>Sydney</td>\n",
       "      <td>80.8</td>\n",
       "    </tr>\n",
       "    <tr>\n",
       "      <th>2</th>\n",
       "      <td>2006-06-01</td>\n",
       "      <td>Sydney</td>\n",
       "      <td>82.3</td>\n",
       "    </tr>\n",
       "    <tr>\n",
       "      <th>3</th>\n",
       "      <td>2006-09-01</td>\n",
       "      <td>Sydney</td>\n",
       "      <td>82.0</td>\n",
       "    </tr>\n",
       "    <tr>\n",
       "      <th>4</th>\n",
       "      <td>2006-12-01</td>\n",
       "      <td>Sydney</td>\n",
       "      <td>82.7</td>\n",
       "    </tr>\n",
       "  </tbody>\n",
       "</table>\n",
       "</div>"
      ],
      "text/plain": [
       "         Date Capital City  Index\n",
       "0  2005-12-01       Sydney   81.8\n",
       "1  2006-03-01       Sydney   80.8\n",
       "2  2006-06-01       Sydney   82.3\n",
       "3  2006-09-01       Sydney   82.0\n",
       "4  2006-12-01       Sydney   82.7"
      ]
     },
     "execution_count": 16,
     "metadata": {},
     "output_type": "execute_result"
    }
   ],
   "source": [
    "index_df.head(5)"
   ]
  },
  {
   "cell_type": "code",
   "execution_count": 17,
   "metadata": {},
   "outputs": [
    {
     "data": {
      "text/html": [
       "<div>\n",
       "<style scoped>\n",
       "    .dataframe tbody tr th:only-of-type {\n",
       "        vertical-align: middle;\n",
       "    }\n",
       "\n",
       "    .dataframe tbody tr th {\n",
       "        vertical-align: top;\n",
       "    }\n",
       "\n",
       "    .dataframe thead th {\n",
       "        text-align: right;\n",
       "    }\n",
       "</style>\n",
       "<table border=\"1\" class=\"dataframe\">\n",
       "  <thead>\n",
       "    <tr style=\"text-align: right;\">\n",
       "      <th></th>\n",
       "      <th>Date</th>\n",
       "      <th>Capital City</th>\n",
       "      <th>Index</th>\n",
       "    </tr>\n",
       "  </thead>\n",
       "  <tbody>\n",
       "  </tbody>\n",
       "</table>\n",
       "</div>"
      ],
      "text/plain": [
       "Empty DataFrame\n",
       "Columns: [Date, Capital City, Index]\n",
       "Index: []"
      ]
     },
     "execution_count": 17,
     "metadata": {},
     "output_type": "execute_result"
    }
   ],
   "source": [
    "index_df[index_df['Date'].isnull()].head(10)"
   ]
  },
  {
   "cell_type": "code",
   "execution_count": 18,
   "metadata": {},
   "outputs": [],
   "source": [
    "index_df['Date'] = index_df['Date'].astype('datetime64')"
   ]
  },
  {
   "cell_type": "code",
   "execution_count": 19,
   "metadata": {},
   "outputs": [
    {
     "name": "stdout",
     "output_type": "stream",
     "text": [
      "<class 'pandas.core.frame.DataFrame'>\n",
      "RangeIndex: 312 entries, 0 to 311\n",
      "Data columns (total 3 columns):\n",
      " #   Column        Non-Null Count  Dtype         \n",
      "---  ------        --------------  -----         \n",
      " 0   Date          312 non-null    datetime64[ns]\n",
      " 1   Capital City  312 non-null    object        \n",
      " 2   Index         312 non-null    float64       \n",
      "dtypes: datetime64[ns](1), float64(1), object(1)\n",
      "memory usage: 7.4+ KB\n"
     ]
    }
   ],
   "source": [
    "index_df.info()"
   ]
  },
  {
   "cell_type": "markdown",
   "metadata": {},
   "source": [
    "### 2B. Population"
   ]
  },
  {
   "cell_type": "code",
   "execution_count": 20,
   "metadata": {},
   "outputs": [],
   "source": [
    "pop_df = pd.read_csv('C:/Users/user/Jorvan - Learning Python/Folder Python Laptop Kantor/Dataset Briston/ERP_by state and gender.csv')"
   ]
  },
  {
   "cell_type": "code",
   "execution_count": 21,
   "metadata": {},
   "outputs": [
    {
     "data": {
      "text/html": [
       "<div>\n",
       "<style scoped>\n",
       "    .dataframe tbody tr th:only-of-type {\n",
       "        vertical-align: middle;\n",
       "    }\n",
       "\n",
       "    .dataframe tbody tr th {\n",
       "        vertical-align: top;\n",
       "    }\n",
       "\n",
       "    .dataframe thead th {\n",
       "        text-align: right;\n",
       "    }\n",
       "</style>\n",
       "<table border=\"1\" class=\"dataframe\">\n",
       "  <thead>\n",
       "    <tr style=\"text-align: right;\">\n",
       "      <th></th>\n",
       "      <th>Unnamed: 0</th>\n",
       "      <th>Estimated Resident Population ;  Male ;  New South Wales ;</th>\n",
       "      <th>Estimated Resident Population ;  Male ;  Victoria ;</th>\n",
       "      <th>Estimated Resident Population ;  Male ;  Queensland ;</th>\n",
       "      <th>Estimated Resident Population ;  Male ;  South Australia ;</th>\n",
       "      <th>Estimated Resident Population ;  Male ;  Western Australia ;</th>\n",
       "      <th>Estimated Resident Population ;  Male ;  Tasmania ;</th>\n",
       "      <th>Estimated Resident Population ;  Male ;  Northern Territory ;</th>\n",
       "      <th>Estimated Resident Population ;  Male ;  Australian Capital Territory ;</th>\n",
       "      <th>Estimated Resident Population ;  Male ;  Australia ;</th>\n",
       "      <th>...</th>\n",
       "      <th>Estimated Resident Population ;  Female ;  Australia ;</th>\n",
       "      <th>Estimated Resident Population ;  Persons ;  New South Wales ;</th>\n",
       "      <th>Estimated Resident Population ;  Persons ;  Victoria ;</th>\n",
       "      <th>Estimated Resident Population ;  Persons ;  Queensland ;</th>\n",
       "      <th>Estimated Resident Population ;  Persons ;  South Australia ;</th>\n",
       "      <th>Estimated Resident Population ;  Persons ;  Western Australia ;</th>\n",
       "      <th>Estimated Resident Population ;  Persons ;  Tasmania ;</th>\n",
       "      <th>Estimated Resident Population ;  Persons ;  Northern Territory ;</th>\n",
       "      <th>Estimated Resident Population ;  Persons ;  Australian Capital Territory ;</th>\n",
       "      <th>Estimated Resident Population ;  Persons ;  Australia ;</th>\n",
       "    </tr>\n",
       "  </thead>\n",
       "  <tbody>\n",
       "  </tbody>\n",
       "</table>\n",
       "<p>0 rows × 28 columns</p>\n",
       "</div>"
      ],
      "text/plain": [
       "Empty DataFrame\n",
       "Columns: [Unnamed: 0, Estimated Resident Population ;  Male ;  New South Wales ;, Estimated Resident Population ;  Male ;  Victoria ;, Estimated Resident Population ;  Male ;  Queensland ;, Estimated Resident Population ;  Male ;  South Australia ;, Estimated Resident Population ;  Male ;  Western Australia ;, Estimated Resident Population ;  Male ;  Tasmania ;, Estimated Resident Population ;  Male ;  Northern Territory ;, Estimated Resident Population ;  Male ;  Australian Capital Territory ;, Estimated Resident Population ;  Male ;  Australia ;, Estimated Resident Population ;  Female ;  New South Wales ;, Estimated Resident Population ;  Female ;  Victoria ;, Estimated Resident Population ;  Female ;  Queensland ;, Estimated Resident Population ;  Female ;  South Australia ;, Estimated Resident Population ;  Female ;  Western Australia ;, Estimated Resident Population ;  Female ;  Tasmania ;, Estimated Resident Population ;  Female ;  Northern Territory ;, Estimated Resident Population ;  Female ;  Australian Capital Territory ;, Estimated Resident Population ;  Female ;  Australia ;, Estimated Resident Population ;  Persons ;  New South Wales ;, Estimated Resident Population ;  Persons ;  Victoria ;, Estimated Resident Population ;  Persons ;  Queensland ;, Estimated Resident Population ;  Persons ;  South Australia ;, Estimated Resident Population ;  Persons ;  Western Australia ;, Estimated Resident Population ;  Persons ;  Tasmania ;, Estimated Resident Population ;  Persons ;  Northern Territory ;, Estimated Resident Population ;  Persons ;  Australian Capital Territory ;, Estimated Resident Population ;  Persons ;  Australia ;]\n",
       "Index: []\n",
       "\n",
       "[0 rows x 28 columns]"
      ]
     },
     "execution_count": 21,
     "metadata": {},
     "output_type": "execute_result"
    }
   ],
   "source": [
    "pop_df[pop_df['Unnamed: 0'].isnull()].head(10)"
   ]
  },
  {
   "cell_type": "code",
   "execution_count": 22,
   "metadata": {},
   "outputs": [
    {
     "data": {
      "text/html": [
       "<div>\n",
       "<style scoped>\n",
       "    .dataframe tbody tr th:only-of-type {\n",
       "        vertical-align: middle;\n",
       "    }\n",
       "\n",
       "    .dataframe tbody tr th {\n",
       "        vertical-align: top;\n",
       "    }\n",
       "\n",
       "    .dataframe thead th {\n",
       "        text-align: right;\n",
       "    }\n",
       "</style>\n",
       "<table border=\"1\" class=\"dataframe\">\n",
       "  <thead>\n",
       "    <tr style=\"text-align: right;\">\n",
       "      <th></th>\n",
       "      <th>Unnamed: 0</th>\n",
       "      <th>Estimated Resident Population ;  Male ;  New South Wales ;</th>\n",
       "      <th>Estimated Resident Population ;  Male ;  Victoria ;</th>\n",
       "      <th>Estimated Resident Population ;  Male ;  Queensland ;</th>\n",
       "      <th>Estimated Resident Population ;  Male ;  South Australia ;</th>\n",
       "      <th>Estimated Resident Population ;  Male ;  Western Australia ;</th>\n",
       "      <th>Estimated Resident Population ;  Male ;  Tasmania ;</th>\n",
       "      <th>Estimated Resident Population ;  Male ;  Northern Territory ;</th>\n",
       "      <th>Estimated Resident Population ;  Male ;  Australian Capital Territory ;</th>\n",
       "      <th>Estimated Resident Population ;  Male ;  Australia ;</th>\n",
       "      <th>...</th>\n",
       "      <th>Estimated Resident Population ;  Female ;  Australia ;</th>\n",
       "      <th>Estimated Resident Population ;  Persons ;  New South Wales ;</th>\n",
       "      <th>Estimated Resident Population ;  Persons ;  Victoria ;</th>\n",
       "      <th>Estimated Resident Population ;  Persons ;  Queensland ;</th>\n",
       "      <th>Estimated Resident Population ;  Persons ;  South Australia ;</th>\n",
       "      <th>Estimated Resident Population ;  Persons ;  Western Australia ;</th>\n",
       "      <th>Estimated Resident Population ;  Persons ;  Tasmania ;</th>\n",
       "      <th>Estimated Resident Population ;  Persons ;  Northern Territory ;</th>\n",
       "      <th>Estimated Resident Population ;  Persons ;  Australian Capital Territory ;</th>\n",
       "      <th>Estimated Resident Population ;  Persons ;  Australia ;</th>\n",
       "    </tr>\n",
       "  </thead>\n",
       "  <tbody>\n",
       "    <tr>\n",
       "      <th>0</th>\n",
       "      <td>01-Dec-05</td>\n",
       "      <td>3327461</td>\n",
       "      <td>2481962</td>\n",
       "      <td>1977783</td>\n",
       "      <td>762665</td>\n",
       "      <td>1022918</td>\n",
       "      <td>240625</td>\n",
       "      <td>107839</td>\n",
       "      <td>164850</td>\n",
       "      <td>10087382</td>\n",
       "      <td>...</td>\n",
       "      <td>10224161</td>\n",
       "      <td>6718023</td>\n",
       "      <td>5023203</td>\n",
       "      <td>3964175</td>\n",
       "      <td>1544852</td>\n",
       "      <td>2029936</td>\n",
       "      <td>488098</td>\n",
       "      <td>207385</td>\n",
       "      <td>333505</td>\n",
       "      <td>20311543</td>\n",
       "    </tr>\n",
       "    <tr>\n",
       "      <th>1</th>\n",
       "      <td>01-Mar-06</td>\n",
       "      <td>3336005</td>\n",
       "      <td>2495951</td>\n",
       "      <td>1989764</td>\n",
       "      <td>765272</td>\n",
       "      <td>1030021</td>\n",
       "      <td>241193</td>\n",
       "      <td>108137</td>\n",
       "      <td>165351</td>\n",
       "      <td>10132982</td>\n",
       "      <td>...</td>\n",
       "      <td>10265150</td>\n",
       "      <td>6735528</td>\n",
       "      <td>5048207</td>\n",
       "      <td>3987653</td>\n",
       "      <td>1550135</td>\n",
       "      <td>2042450</td>\n",
       "      <td>489140</td>\n",
       "      <td>208347</td>\n",
       "      <td>334299</td>\n",
       "      <td>20398132</td>\n",
       "    </tr>\n",
       "    <tr>\n",
       "      <th>2</th>\n",
       "      <td>01-Jun-06</td>\n",
       "      <td>3339035</td>\n",
       "      <td>2502687</td>\n",
       "      <td>1999858</td>\n",
       "      <td>766432</td>\n",
       "      <td>1034567</td>\n",
       "      <td>241227</td>\n",
       "      <td>108502</td>\n",
       "      <td>165814</td>\n",
       "      <td>10159424</td>\n",
       "      <td>...</td>\n",
       "      <td>10291542</td>\n",
       "      <td>6742690</td>\n",
       "      <td>5061266</td>\n",
       "      <td>4007992</td>\n",
       "      <td>1552529</td>\n",
       "      <td>2050581</td>\n",
       "      <td>489302</td>\n",
       "      <td>209057</td>\n",
       "      <td>335170</td>\n",
       "      <td>20450966</td>\n",
       "    </tr>\n",
       "    <tr>\n",
       "      <th>3</th>\n",
       "      <td>01-Sep-06</td>\n",
       "      <td>3351254</td>\n",
       "      <td>2514544</td>\n",
       "      <td>2011909</td>\n",
       "      <td>768884</td>\n",
       "      <td>1040869</td>\n",
       "      <td>241864</td>\n",
       "      <td>109220</td>\n",
       "      <td>166549</td>\n",
       "      <td>10206440</td>\n",
       "      <td>...</td>\n",
       "      <td>10335842</td>\n",
       "      <td>6766133</td>\n",
       "      <td>5083593</td>\n",
       "      <td>4031580</td>\n",
       "      <td>1557332</td>\n",
       "      <td>2064032</td>\n",
       "      <td>490354</td>\n",
       "      <td>210284</td>\n",
       "      <td>336547</td>\n",
       "      <td>20542282</td>\n",
       "    </tr>\n",
       "    <tr>\n",
       "      <th>4</th>\n",
       "      <td>01-Dec-06</td>\n",
       "      <td>3361292</td>\n",
       "      <td>2524859</td>\n",
       "      <td>2023921</td>\n",
       "      <td>770847</td>\n",
       "      <td>1047061</td>\n",
       "      <td>242549</td>\n",
       "      <td>109586</td>\n",
       "      <td>167405</td>\n",
       "      <td>10248923</td>\n",
       "      <td>...</td>\n",
       "      <td>10378624</td>\n",
       "      <td>6786160</td>\n",
       "      <td>5103965</td>\n",
       "      <td>4055845</td>\n",
       "      <td>1561300</td>\n",
       "      <td>2076867</td>\n",
       "      <td>491515</td>\n",
       "      <td>211029</td>\n",
       "      <td>338381</td>\n",
       "      <td>20627547</td>\n",
       "    </tr>\n",
       "  </tbody>\n",
       "</table>\n",
       "<p>5 rows × 28 columns</p>\n",
       "</div>"
      ],
      "text/plain": [
       "  Unnamed: 0  Estimated Resident Population ;  Male ;  New South Wales ;  \\\n",
       "0  01-Dec-05                                            3327461            \n",
       "1  01-Mar-06                                            3336005            \n",
       "2  01-Jun-06                                            3339035            \n",
       "3  01-Sep-06                                            3351254            \n",
       "4  01-Dec-06                                            3361292            \n",
       "\n",
       "   Estimated Resident Population ;  Male ;  Victoria ;  \\\n",
       "0                                            2481962     \n",
       "1                                            2495951     \n",
       "2                                            2502687     \n",
       "3                                            2514544     \n",
       "4                                            2524859     \n",
       "\n",
       "   Estimated Resident Population ;  Male ;  Queensland ;  \\\n",
       "0                                            1977783       \n",
       "1                                            1989764       \n",
       "2                                            1999858       \n",
       "3                                            2011909       \n",
       "4                                            2023921       \n",
       "\n",
       "   Estimated Resident Population ;  Male ;  South Australia ;  \\\n",
       "0                                             762665            \n",
       "1                                             765272            \n",
       "2                                             766432            \n",
       "3                                             768884            \n",
       "4                                             770847            \n",
       "\n",
       "   Estimated Resident Population ;  Male ;  Western Australia ;  \\\n",
       "0                                            1022918              \n",
       "1                                            1030021              \n",
       "2                                            1034567              \n",
       "3                                            1040869              \n",
       "4                                            1047061              \n",
       "\n",
       "   Estimated Resident Population ;  Male ;  Tasmania ;  \\\n",
       "0                                             240625     \n",
       "1                                             241193     \n",
       "2                                             241227     \n",
       "3                                             241864     \n",
       "4                                             242549     \n",
       "\n",
       "   Estimated Resident Population ;  Male ;  Northern Territory ;  \\\n",
       "0                                             107839               \n",
       "1                                             108137               \n",
       "2                                             108502               \n",
       "3                                             109220               \n",
       "4                                             109586               \n",
       "\n",
       "   Estimated Resident Population ;  Male ;  Australian Capital Territory ;  \\\n",
       "0                                             164850                         \n",
       "1                                             165351                         \n",
       "2                                             165814                         \n",
       "3                                             166549                         \n",
       "4                                             167405                         \n",
       "\n",
       "   Estimated Resident Population ;  Male ;  Australia ;  ...  \\\n",
       "0                                           10087382     ...   \n",
       "1                                           10132982     ...   \n",
       "2                                           10159424     ...   \n",
       "3                                           10206440     ...   \n",
       "4                                           10248923     ...   \n",
       "\n",
       "   Estimated Resident Population ;  Female ;  Australia ;  \\\n",
       "0                                           10224161        \n",
       "1                                           10265150        \n",
       "2                                           10291542        \n",
       "3                                           10335842        \n",
       "4                                           10378624        \n",
       "\n",
       "   Estimated Resident Population ;  Persons ;  New South Wales ;  \\\n",
       "0                                            6718023               \n",
       "1                                            6735528               \n",
       "2                                            6742690               \n",
       "3                                            6766133               \n",
       "4                                            6786160               \n",
       "\n",
       "   Estimated Resident Population ;  Persons ;  Victoria ;  \\\n",
       "0                                            5023203        \n",
       "1                                            5048207        \n",
       "2                                            5061266        \n",
       "3                                            5083593        \n",
       "4                                            5103965        \n",
       "\n",
       "   Estimated Resident Population ;  Persons ;  Queensland ;  \\\n",
       "0                                            3964175          \n",
       "1                                            3987653          \n",
       "2                                            4007992          \n",
       "3                                            4031580          \n",
       "4                                            4055845          \n",
       "\n",
       "   Estimated Resident Population ;  Persons ;  South Australia ;  \\\n",
       "0                                            1544852               \n",
       "1                                            1550135               \n",
       "2                                            1552529               \n",
       "3                                            1557332               \n",
       "4                                            1561300               \n",
       "\n",
       "   Estimated Resident Population ;  Persons ;  Western Australia ;  \\\n",
       "0                                            2029936                 \n",
       "1                                            2042450                 \n",
       "2                                            2050581                 \n",
       "3                                            2064032                 \n",
       "4                                            2076867                 \n",
       "\n",
       "   Estimated Resident Population ;  Persons ;  Tasmania ;  \\\n",
       "0                                             488098        \n",
       "1                                             489140        \n",
       "2                                             489302        \n",
       "3                                             490354        \n",
       "4                                             491515        \n",
       "\n",
       "   Estimated Resident Population ;  Persons ;  Northern Territory ;  \\\n",
       "0                                             207385                  \n",
       "1                                             208347                  \n",
       "2                                             209057                  \n",
       "3                                             210284                  \n",
       "4                                             211029                  \n",
       "\n",
       "   Estimated Resident Population ;  Persons ;  Australian Capital Territory ;  \\\n",
       "0                                             333505                            \n",
       "1                                             334299                            \n",
       "2                                             335170                            \n",
       "3                                             336547                            \n",
       "4                                             338381                            \n",
       "\n",
       "   Estimated Resident Population ;  Persons ;  Australia ;  \n",
       "0                                           20311543        \n",
       "1                                           20398132        \n",
       "2                                           20450966        \n",
       "3                                           20542282        \n",
       "4                                           20627547        \n",
       "\n",
       "[5 rows x 28 columns]"
      ]
     },
     "execution_count": 22,
     "metadata": {},
     "output_type": "execute_result"
    }
   ],
   "source": [
    "pop_df.head(5)"
   ]
  },
  {
   "cell_type": "code",
   "execution_count": 23,
   "metadata": {},
   "outputs": [],
   "source": [
    "pop_df = pop_df.melt(['Unnamed: 0'], var_name = 'Location', value_name = 'Value')"
   ]
  },
  {
   "cell_type": "code",
   "execution_count": 24,
   "metadata": {},
   "outputs": [
    {
     "data": {
      "text/html": [
       "<div>\n",
       "<style scoped>\n",
       "    .dataframe tbody tr th:only-of-type {\n",
       "        vertical-align: middle;\n",
       "    }\n",
       "\n",
       "    .dataframe tbody tr th {\n",
       "        vertical-align: top;\n",
       "    }\n",
       "\n",
       "    .dataframe thead th {\n",
       "        text-align: right;\n",
       "    }\n",
       "</style>\n",
       "<table border=\"1\" class=\"dataframe\">\n",
       "  <thead>\n",
       "    <tr style=\"text-align: right;\">\n",
       "      <th></th>\n",
       "      <th>Unnamed: 0</th>\n",
       "      <th>Location</th>\n",
       "      <th>Value</th>\n",
       "    </tr>\n",
       "  </thead>\n",
       "  <tbody>\n",
       "    <tr>\n",
       "      <th>0</th>\n",
       "      <td>01-Dec-05</td>\n",
       "      <td>Estimated Resident Population ;  Male ;  New S...</td>\n",
       "      <td>3327461</td>\n",
       "    </tr>\n",
       "    <tr>\n",
       "      <th>1</th>\n",
       "      <td>01-Mar-06</td>\n",
       "      <td>Estimated Resident Population ;  Male ;  New S...</td>\n",
       "      <td>3336005</td>\n",
       "    </tr>\n",
       "    <tr>\n",
       "      <th>2</th>\n",
       "      <td>01-Jun-06</td>\n",
       "      <td>Estimated Resident Population ;  Male ;  New S...</td>\n",
       "      <td>3339035</td>\n",
       "    </tr>\n",
       "    <tr>\n",
       "      <th>3</th>\n",
       "      <td>01-Sep-06</td>\n",
       "      <td>Estimated Resident Population ;  Male ;  New S...</td>\n",
       "      <td>3351254</td>\n",
       "    </tr>\n",
       "    <tr>\n",
       "      <th>4</th>\n",
       "      <td>01-Dec-06</td>\n",
       "      <td>Estimated Resident Population ;  Male ;  New S...</td>\n",
       "      <td>3361292</td>\n",
       "    </tr>\n",
       "  </tbody>\n",
       "</table>\n",
       "</div>"
      ],
      "text/plain": [
       "  Unnamed: 0                                           Location    Value\n",
       "0  01-Dec-05  Estimated Resident Population ;  Male ;  New S...  3327461\n",
       "1  01-Mar-06  Estimated Resident Population ;  Male ;  New S...  3336005\n",
       "2  01-Jun-06  Estimated Resident Population ;  Male ;  New S...  3339035\n",
       "3  01-Sep-06  Estimated Resident Population ;  Male ;  New S...  3351254\n",
       "4  01-Dec-06  Estimated Resident Population ;  Male ;  New S...  3361292"
      ]
     },
     "execution_count": 24,
     "metadata": {},
     "output_type": "execute_result"
    }
   ],
   "source": [
    "pop_df.head(5)"
   ]
  },
  {
   "cell_type": "code",
   "execution_count": 25,
   "metadata": {},
   "outputs": [],
   "source": [
    "pop_df['Genre'] = pop_df['Location'].str.split(';', expand = True)[1].str.strip()"
   ]
  },
  {
   "cell_type": "code",
   "execution_count": 26,
   "metadata": {},
   "outputs": [],
   "source": [
    "pop_df['Location'] = pop_df['Location'].str.split(';', expand = True)[2].str.strip()"
   ]
  },
  {
   "cell_type": "code",
   "execution_count": 27,
   "metadata": {},
   "outputs": [],
   "source": [
    "pop_df.columns = ['Date', 'State', 'Population','Genre']"
   ]
  },
  {
   "cell_type": "code",
   "execution_count": 28,
   "metadata": {},
   "outputs": [
    {
     "data": {
      "text/html": [
       "<div>\n",
       "<style scoped>\n",
       "    .dataframe tbody tr th:only-of-type {\n",
       "        vertical-align: middle;\n",
       "    }\n",
       "\n",
       "    .dataframe tbody tr th {\n",
       "        vertical-align: top;\n",
       "    }\n",
       "\n",
       "    .dataframe thead th {\n",
       "        text-align: right;\n",
       "    }\n",
       "</style>\n",
       "<table border=\"1\" class=\"dataframe\">\n",
       "  <thead>\n",
       "    <tr style=\"text-align: right;\">\n",
       "      <th></th>\n",
       "      <th>Date</th>\n",
       "      <th>State</th>\n",
       "      <th>Population</th>\n",
       "      <th>Genre</th>\n",
       "    </tr>\n",
       "  </thead>\n",
       "  <tbody>\n",
       "    <tr>\n",
       "      <th>0</th>\n",
       "      <td>01-Dec-05</td>\n",
       "      <td>New South Wales</td>\n",
       "      <td>3327461</td>\n",
       "      <td>Male</td>\n",
       "    </tr>\n",
       "    <tr>\n",
       "      <th>1</th>\n",
       "      <td>01-Mar-06</td>\n",
       "      <td>New South Wales</td>\n",
       "      <td>3336005</td>\n",
       "      <td>Male</td>\n",
       "    </tr>\n",
       "    <tr>\n",
       "      <th>2</th>\n",
       "      <td>01-Jun-06</td>\n",
       "      <td>New South Wales</td>\n",
       "      <td>3339035</td>\n",
       "      <td>Male</td>\n",
       "    </tr>\n",
       "    <tr>\n",
       "      <th>3</th>\n",
       "      <td>01-Sep-06</td>\n",
       "      <td>New South Wales</td>\n",
       "      <td>3351254</td>\n",
       "      <td>Male</td>\n",
       "    </tr>\n",
       "    <tr>\n",
       "      <th>4</th>\n",
       "      <td>01-Dec-06</td>\n",
       "      <td>New South Wales</td>\n",
       "      <td>3361292</td>\n",
       "      <td>Male</td>\n",
       "    </tr>\n",
       "  </tbody>\n",
       "</table>\n",
       "</div>"
      ],
      "text/plain": [
       "        Date            State  Population Genre\n",
       "0  01-Dec-05  New South Wales     3327461  Male\n",
       "1  01-Mar-06  New South Wales     3336005  Male\n",
       "2  01-Jun-06  New South Wales     3339035  Male\n",
       "3  01-Sep-06  New South Wales     3351254  Male\n",
       "4  01-Dec-06  New South Wales     3361292  Male"
      ]
     },
     "execution_count": 28,
     "metadata": {},
     "output_type": "execute_result"
    }
   ],
   "source": [
    "pop_df.head(5)"
   ]
  },
  {
   "cell_type": "code",
   "execution_count": 29,
   "metadata": {},
   "outputs": [
    {
     "data": {
      "text/plain": [
       "0      2005-12-01\n",
       "1      2006-03-01\n",
       "2      2006-06-01\n",
       "3      2006-09-01\n",
       "4      2006-12-01\n",
       "          ...    \n",
       "307    2014-06-01\n",
       "308    2014-09-01\n",
       "309    2014-12-01\n",
       "310    2015-03-01\n",
       "311    2015-06-01\n",
       "Name: Date, Length: 312, dtype: object"
      ]
     },
     "execution_count": 29,
     "metadata": {},
     "output_type": "execute_result"
    }
   ],
   "source": [
    "pd.to_datetime(index_df['Date']).dt.strftime('%Y-%m-%d')"
   ]
  },
  {
   "cell_type": "code",
   "execution_count": 30,
   "metadata": {},
   "outputs": [],
   "source": [
    "pop_df['Date'] = pop_df['Date'].str[:-2]+'20'+pop_df['Date'].str[-2:]"
   ]
  },
  {
   "cell_type": "code",
   "execution_count": 31,
   "metadata": {},
   "outputs": [
    {
     "data": {
      "text/plain": [
       "0       01-Dec-2005\n",
       "1       01-Mar-2006\n",
       "2       01-Jun-2006\n",
       "3       01-Sep-2006\n",
       "4       01-Dec-2006\n",
       "           ...     \n",
       "1048    01-Jun-2014\n",
       "1049    01-Sep-2014\n",
       "1050    01-Dec-2014\n",
       "1051    01-Mar-2015\n",
       "1052    01-Jun-2015\n",
       "Name: Date, Length: 1053, dtype: object"
      ]
     },
     "execution_count": 31,
     "metadata": {},
     "output_type": "execute_result"
    }
   ],
   "source": [
    "pop_df['Date']"
   ]
  },
  {
   "cell_type": "code",
   "execution_count": 32,
   "metadata": {},
   "outputs": [],
   "source": [
    "pop_df['Date'] = pd.to_datetime(pop_df['Date'])"
   ]
  },
  {
   "cell_type": "code",
   "execution_count": 33,
   "metadata": {},
   "outputs": [
    {
     "data": {
      "text/plain": [
       "0      2005-12-01\n",
       "1      2006-03-01\n",
       "2      2006-06-01\n",
       "3      2006-09-01\n",
       "4      2006-12-01\n",
       "          ...    \n",
       "1048   2014-06-01\n",
       "1049   2014-09-01\n",
       "1050   2014-12-01\n",
       "1051   2015-03-01\n",
       "1052   2015-06-01\n",
       "Name: Date, Length: 1053, dtype: datetime64[ns]"
      ]
     },
     "execution_count": 33,
     "metadata": {},
     "output_type": "execute_result"
    }
   ],
   "source": [
    "pop_df['Date']"
   ]
  },
  {
   "cell_type": "code",
   "execution_count": 34,
   "metadata": {},
   "outputs": [
    {
     "data": {
      "text/html": [
       "<div>\n",
       "<style scoped>\n",
       "    .dataframe tbody tr th:only-of-type {\n",
       "        vertical-align: middle;\n",
       "    }\n",
       "\n",
       "    .dataframe tbody tr th {\n",
       "        vertical-align: top;\n",
       "    }\n",
       "\n",
       "    .dataframe thead th {\n",
       "        text-align: right;\n",
       "    }\n",
       "</style>\n",
       "<table border=\"1\" class=\"dataframe\">\n",
       "  <thead>\n",
       "    <tr style=\"text-align: right;\">\n",
       "      <th></th>\n",
       "      <th>Date</th>\n",
       "      <th>State</th>\n",
       "      <th>Population</th>\n",
       "      <th>Genre</th>\n",
       "    </tr>\n",
       "  </thead>\n",
       "  <tbody>\n",
       "  </tbody>\n",
       "</table>\n",
       "</div>"
      ],
      "text/plain": [
       "Empty DataFrame\n",
       "Columns: [Date, State, Population, Genre]\n",
       "Index: []"
      ]
     },
     "execution_count": 34,
     "metadata": {},
     "output_type": "execute_result"
    }
   ],
   "source": [
    "pop_df[pop_df['Date'].isnull()].head(10)"
   ]
  },
  {
   "cell_type": "code",
   "execution_count": 35,
   "metadata": {},
   "outputs": [
    {
     "data": {
      "text/html": [
       "<div>\n",
       "<style scoped>\n",
       "    .dataframe tbody tr th:only-of-type {\n",
       "        vertical-align: middle;\n",
       "    }\n",
       "\n",
       "    .dataframe tbody tr th {\n",
       "        vertical-align: top;\n",
       "    }\n",
       "\n",
       "    .dataframe thead th {\n",
       "        text-align: right;\n",
       "    }\n",
       "</style>\n",
       "<table border=\"1\" class=\"dataframe\">\n",
       "  <thead>\n",
       "    <tr style=\"text-align: right;\">\n",
       "      <th></th>\n",
       "      <th>Date</th>\n",
       "      <th>State</th>\n",
       "      <th>Population</th>\n",
       "      <th>Genre</th>\n",
       "    </tr>\n",
       "  </thead>\n",
       "  <tbody>\n",
       "    <tr>\n",
       "      <th>0</th>\n",
       "      <td>2005-12-01</td>\n",
       "      <td>New South Wales</td>\n",
       "      <td>3327461</td>\n",
       "      <td>Male</td>\n",
       "    </tr>\n",
       "    <tr>\n",
       "      <th>1</th>\n",
       "      <td>2006-03-01</td>\n",
       "      <td>New South Wales</td>\n",
       "      <td>3336005</td>\n",
       "      <td>Male</td>\n",
       "    </tr>\n",
       "    <tr>\n",
       "      <th>2</th>\n",
       "      <td>2006-06-01</td>\n",
       "      <td>New South Wales</td>\n",
       "      <td>3339035</td>\n",
       "      <td>Male</td>\n",
       "    </tr>\n",
       "    <tr>\n",
       "      <th>3</th>\n",
       "      <td>2006-09-01</td>\n",
       "      <td>New South Wales</td>\n",
       "      <td>3351254</td>\n",
       "      <td>Male</td>\n",
       "    </tr>\n",
       "    <tr>\n",
       "      <th>4</th>\n",
       "      <td>2006-12-01</td>\n",
       "      <td>New South Wales</td>\n",
       "      <td>3361292</td>\n",
       "      <td>Male</td>\n",
       "    </tr>\n",
       "  </tbody>\n",
       "</table>\n",
       "</div>"
      ],
      "text/plain": [
       "        Date            State  Population Genre\n",
       "0 2005-12-01  New South Wales     3327461  Male\n",
       "1 2006-03-01  New South Wales     3336005  Male\n",
       "2 2006-06-01  New South Wales     3339035  Male\n",
       "3 2006-09-01  New South Wales     3351254  Male\n",
       "4 2006-12-01  New South Wales     3361292  Male"
      ]
     },
     "execution_count": 35,
     "metadata": {},
     "output_type": "execute_result"
    }
   ],
   "source": [
    "pop_df.head(5)"
   ]
  },
  {
   "cell_type": "code",
   "execution_count": 36,
   "metadata": {},
   "outputs": [
    {
     "name": "stdout",
     "output_type": "stream",
     "text": [
      "<class 'pandas.core.frame.DataFrame'>\n",
      "RangeIndex: 1053 entries, 0 to 1052\n",
      "Data columns (total 4 columns):\n",
      " #   Column      Non-Null Count  Dtype         \n",
      "---  ------      --------------  -----         \n",
      " 0   Date        1053 non-null   datetime64[ns]\n",
      " 1   State       1053 non-null   object        \n",
      " 2   Population  1053 non-null   int64         \n",
      " 3   Genre       1053 non-null   object        \n",
      "dtypes: datetime64[ns](1), int64(1), object(2)\n",
      "memory usage: 33.0+ KB\n"
     ]
    }
   ],
   "source": [
    "pop_df.info()"
   ]
  },
  {
   "cell_type": "markdown",
   "metadata": {},
   "source": [
    "### 2C. Unemployment Rate"
   ]
  },
  {
   "cell_type": "code",
   "execution_count": 37,
   "metadata": {},
   "outputs": [
    {
     "data": {
      "text/html": [
       "<div>\n",
       "<style scoped>\n",
       "    .dataframe tbody tr th:only-of-type {\n",
       "        vertical-align: middle;\n",
       "    }\n",
       "\n",
       "    .dataframe tbody tr th {\n",
       "        vertical-align: top;\n",
       "    }\n",
       "\n",
       "    .dataframe thead th {\n",
       "        text-align: right;\n",
       "    }\n",
       "</style>\n",
       "<table border=\"1\" class=\"dataframe\">\n",
       "  <thead>\n",
       "    <tr style=\"text-align: right;\">\n",
       "      <th></th>\n",
       "      <th>State/Territory</th>\n",
       "      <th>Date</th>\n",
       "      <th>Employment Rate (15-64)</th>\n",
       "      <th>Unemployment Rate (15+)</th>\n",
       "      <th>Participation Rate (15+)</th>\n",
       "    </tr>\n",
       "  </thead>\n",
       "  <tbody>\n",
       "    <tr>\n",
       "      <th>0</th>\n",
       "      <td>NSW</td>\n",
       "      <td>1978-02-01</td>\n",
       "      <td>NaN</td>\n",
       "      <td>6.773762</td>\n",
       "      <td>60.735313</td>\n",
       "    </tr>\n",
       "    <tr>\n",
       "      <th>1</th>\n",
       "      <td>NSW</td>\n",
       "      <td>1978-03-01</td>\n",
       "      <td>NaN</td>\n",
       "      <td>6.490161</td>\n",
       "      <td>59.851078</td>\n",
       "    </tr>\n",
       "    <tr>\n",
       "      <th>2</th>\n",
       "      <td>NSW</td>\n",
       "      <td>1978-04-01</td>\n",
       "      <td>63.719468</td>\n",
       "      <td>6.507978</td>\n",
       "      <td>60.168513</td>\n",
       "    </tr>\n",
       "    <tr>\n",
       "      <th>3</th>\n",
       "      <td>NSW</td>\n",
       "      <td>1978-05-01</td>\n",
       "      <td>63.682010</td>\n",
       "      <td>6.115171</td>\n",
       "      <td>60.003564</td>\n",
       "    </tr>\n",
       "    <tr>\n",
       "      <th>4</th>\n",
       "      <td>NSW</td>\n",
       "      <td>1978-06-01</td>\n",
       "      <td>63.682900</td>\n",
       "      <td>6.424127</td>\n",
       "      <td>60.145380</td>\n",
       "    </tr>\n",
       "  </tbody>\n",
       "</table>\n",
       "</div>"
      ],
      "text/plain": [
       "  State/Territory       Date  Employment Rate (15-64)  \\\n",
       "0             NSW 1978-02-01                      NaN   \n",
       "1             NSW 1978-03-01                      NaN   \n",
       "2             NSW 1978-04-01                63.719468   \n",
       "3             NSW 1978-05-01                63.682010   \n",
       "4             NSW 1978-06-01                63.682900   \n",
       "\n",
       "   Unemployment Rate (15+)  Participation Rate (15+)  \n",
       "0                 6.773762                 60.735313  \n",
       "1                 6.490161                 59.851078  \n",
       "2                 6.507978                 60.168513  \n",
       "3                 6.115171                 60.003564  \n",
       "4                 6.424127                 60.145380  "
      ]
     },
     "execution_count": 37,
     "metadata": {},
     "output_type": "execute_result"
    }
   ],
   "source": [
    "unemp_df.head()"
   ]
  },
  {
   "cell_type": "markdown",
   "metadata": {},
   "source": [
    "There are nothing to be done in Unemployment dataset"
   ]
  },
  {
   "cell_type": "markdown",
   "metadata": {},
   "source": [
    "<a id='section1'></a>\n",
    "\n",
    "# **3. Join**\n",
    "\n",
    "Combine population and price index dataset"
   ]
  },
  {
   "cell_type": "code",
   "execution_count": 38,
   "metadata": {},
   "outputs": [
    {
     "data": {
      "text/html": [
       "<div>\n",
       "<style scoped>\n",
       "    .dataframe tbody tr th:only-of-type {\n",
       "        vertical-align: middle;\n",
       "    }\n",
       "\n",
       "    .dataframe tbody tr th {\n",
       "        vertical-align: top;\n",
       "    }\n",
       "\n",
       "    .dataframe thead th {\n",
       "        text-align: right;\n",
       "    }\n",
       "</style>\n",
       "<table border=\"1\" class=\"dataframe\">\n",
       "  <thead>\n",
       "    <tr style=\"text-align: right;\">\n",
       "      <th></th>\n",
       "      <th>Date</th>\n",
       "      <th>State</th>\n",
       "      <th>Population</th>\n",
       "      <th>Genre</th>\n",
       "    </tr>\n",
       "  </thead>\n",
       "  <tbody>\n",
       "    <tr>\n",
       "      <th>0</th>\n",
       "      <td>2005-12-01</td>\n",
       "      <td>New South Wales</td>\n",
       "      <td>3327461</td>\n",
       "      <td>Male</td>\n",
       "    </tr>\n",
       "    <tr>\n",
       "      <th>1</th>\n",
       "      <td>2006-03-01</td>\n",
       "      <td>New South Wales</td>\n",
       "      <td>3336005</td>\n",
       "      <td>Male</td>\n",
       "    </tr>\n",
       "    <tr>\n",
       "      <th>2</th>\n",
       "      <td>2006-06-01</td>\n",
       "      <td>New South Wales</td>\n",
       "      <td>3339035</td>\n",
       "      <td>Male</td>\n",
       "    </tr>\n",
       "    <tr>\n",
       "      <th>3</th>\n",
       "      <td>2006-09-01</td>\n",
       "      <td>New South Wales</td>\n",
       "      <td>3351254</td>\n",
       "      <td>Male</td>\n",
       "    </tr>\n",
       "    <tr>\n",
       "      <th>4</th>\n",
       "      <td>2006-12-01</td>\n",
       "      <td>New South Wales</td>\n",
       "      <td>3361292</td>\n",
       "      <td>Male</td>\n",
       "    </tr>\n",
       "    <tr>\n",
       "      <th>...</th>\n",
       "      <td>...</td>\n",
       "      <td>...</td>\n",
       "      <td>...</td>\n",
       "      <td>...</td>\n",
       "    </tr>\n",
       "    <tr>\n",
       "      <th>995</th>\n",
       "      <td>2010-12-01</td>\n",
       "      <td>Australian Capital Territory</td>\n",
       "      <td>364833</td>\n",
       "      <td>Persons</td>\n",
       "    </tr>\n",
       "    <tr>\n",
       "      <th>996</th>\n",
       "      <td>2011-03-01</td>\n",
       "      <td>Australian Capital Territory</td>\n",
       "      <td>366737</td>\n",
       "      <td>Persons</td>\n",
       "    </tr>\n",
       "    <tr>\n",
       "      <th>997</th>\n",
       "      <td>2011-06-01</td>\n",
       "      <td>Australian Capital Territory</td>\n",
       "      <td>367985</td>\n",
       "      <td>Persons</td>\n",
       "    </tr>\n",
       "    <tr>\n",
       "      <th>998</th>\n",
       "      <td>2011-09-01</td>\n",
       "      <td>Australian Capital Territory</td>\n",
       "      <td>369397</td>\n",
       "      <td>Persons</td>\n",
       "    </tr>\n",
       "    <tr>\n",
       "      <th>999</th>\n",
       "      <td>2011-12-01</td>\n",
       "      <td>Australian Capital Territory</td>\n",
       "      <td>371108</td>\n",
       "      <td>Persons</td>\n",
       "    </tr>\n",
       "  </tbody>\n",
       "</table>\n",
       "<p>1000 rows × 4 columns</p>\n",
       "</div>"
      ],
      "text/plain": [
       "          Date                         State  Population    Genre\n",
       "0   2005-12-01               New South Wales     3327461     Male\n",
       "1   2006-03-01               New South Wales     3336005     Male\n",
       "2   2006-06-01               New South Wales     3339035     Male\n",
       "3   2006-09-01               New South Wales     3351254     Male\n",
       "4   2006-12-01               New South Wales     3361292     Male\n",
       "..         ...                           ...         ...      ...\n",
       "995 2010-12-01  Australian Capital Territory      364833  Persons\n",
       "996 2011-03-01  Australian Capital Territory      366737  Persons\n",
       "997 2011-06-01  Australian Capital Territory      367985  Persons\n",
       "998 2011-09-01  Australian Capital Territory      369397  Persons\n",
       "999 2011-12-01  Australian Capital Territory      371108  Persons\n",
       "\n",
       "[1000 rows x 4 columns]"
      ]
     },
     "execution_count": 38,
     "metadata": {},
     "output_type": "execute_result"
    }
   ],
   "source": [
    "pop_df.head(1000)"
   ]
  },
  {
   "cell_type": "code",
   "execution_count": 39,
   "metadata": {},
   "outputs": [
    {
     "data": {
      "text/html": [
       "<div>\n",
       "<style scoped>\n",
       "    .dataframe tbody tr th:only-of-type {\n",
       "        vertical-align: middle;\n",
       "    }\n",
       "\n",
       "    .dataframe tbody tr th {\n",
       "        vertical-align: top;\n",
       "    }\n",
       "\n",
       "    .dataframe thead th {\n",
       "        text-align: right;\n",
       "    }\n",
       "</style>\n",
       "<table border=\"1\" class=\"dataframe\">\n",
       "  <thead>\n",
       "    <tr style=\"text-align: right;\">\n",
       "      <th></th>\n",
       "      <th>Date</th>\n",
       "      <th>Capital City</th>\n",
       "      <th>Index</th>\n",
       "    </tr>\n",
       "  </thead>\n",
       "  <tbody>\n",
       "    <tr>\n",
       "      <th>0</th>\n",
       "      <td>2005-12-01</td>\n",
       "      <td>Sydney</td>\n",
       "      <td>81.8</td>\n",
       "    </tr>\n",
       "    <tr>\n",
       "      <th>1</th>\n",
       "      <td>2006-03-01</td>\n",
       "      <td>Sydney</td>\n",
       "      <td>80.8</td>\n",
       "    </tr>\n",
       "  </tbody>\n",
       "</table>\n",
       "</div>"
      ],
      "text/plain": [
       "        Date Capital City  Index\n",
       "0 2005-12-01       Sydney   81.8\n",
       "1 2006-03-01       Sydney   80.8"
      ]
     },
     "execution_count": 39,
     "metadata": {},
     "output_type": "execute_result"
    }
   ],
   "source": [
    "index_df.head(2)"
   ]
  },
  {
   "cell_type": "code",
   "execution_count": 40,
   "metadata": {},
   "outputs": [
    {
     "data": {
      "text/html": [
       "<div>\n",
       "<style scoped>\n",
       "    .dataframe tbody tr th:only-of-type {\n",
       "        vertical-align: middle;\n",
       "    }\n",
       "\n",
       "    .dataframe tbody tr th {\n",
       "        vertical-align: top;\n",
       "    }\n",
       "\n",
       "    .dataframe thead th {\n",
       "        text-align: right;\n",
       "    }\n",
       "</style>\n",
       "<table border=\"1\" class=\"dataframe\">\n",
       "  <thead>\n",
       "    <tr style=\"text-align: right;\">\n",
       "      <th></th>\n",
       "      <th>State</th>\n",
       "      <th>Capital City</th>\n",
       "      <th>Alias</th>\n",
       "    </tr>\n",
       "  </thead>\n",
       "  <tbody>\n",
       "    <tr>\n",
       "      <th>0</th>\n",
       "      <td>New South Wales</td>\n",
       "      <td>Sydney</td>\n",
       "      <td>NSW</td>\n",
       "    </tr>\n",
       "    <tr>\n",
       "      <th>1</th>\n",
       "      <td>Victoria</td>\n",
       "      <td>Melbourne</td>\n",
       "      <td>VIC</td>\n",
       "    </tr>\n",
       "  </tbody>\n",
       "</table>\n",
       "</div>"
      ],
      "text/plain": [
       "             State Capital City Alias\n",
       "0  New South Wales       Sydney   NSW\n",
       "1         Victoria    Melbourne   VIC"
      ]
     },
     "execution_count": 40,
     "metadata": {},
     "output_type": "execute_result"
    }
   ],
   "source": [
    "mapping.head(2)"
   ]
  },
  {
   "cell_type": "code",
   "execution_count": 41,
   "metadata": {},
   "outputs": [
    {
     "data": {
      "text/html": [
       "<div>\n",
       "<style scoped>\n",
       "    .dataframe tbody tr th:only-of-type {\n",
       "        vertical-align: middle;\n",
       "    }\n",
       "\n",
       "    .dataframe tbody tr th {\n",
       "        vertical-align: top;\n",
       "    }\n",
       "\n",
       "    .dataframe thead th {\n",
       "        text-align: right;\n",
       "    }\n",
       "</style>\n",
       "<table border=\"1\" class=\"dataframe\">\n",
       "  <thead>\n",
       "    <tr style=\"text-align: right;\">\n",
       "      <th></th>\n",
       "      <th>Date</th>\n",
       "      <th>State</th>\n",
       "      <th>Population</th>\n",
       "      <th>Genre</th>\n",
       "      <th>Capital City</th>\n",
       "      <th>Alias</th>\n",
       "    </tr>\n",
       "  </thead>\n",
       "  <tbody>\n",
       "    <tr>\n",
       "      <th>0</th>\n",
       "      <td>2005-12-01</td>\n",
       "      <td>New South Wales</td>\n",
       "      <td>3327461</td>\n",
       "      <td>Male</td>\n",
       "      <td>Sydney</td>\n",
       "      <td>NSW</td>\n",
       "    </tr>\n",
       "    <tr>\n",
       "      <th>1</th>\n",
       "      <td>2006-03-01</td>\n",
       "      <td>New South Wales</td>\n",
       "      <td>3336005</td>\n",
       "      <td>Male</td>\n",
       "      <td>Sydney</td>\n",
       "      <td>NSW</td>\n",
       "    </tr>\n",
       "    <tr>\n",
       "      <th>2</th>\n",
       "      <td>2006-06-01</td>\n",
       "      <td>New South Wales</td>\n",
       "      <td>3339035</td>\n",
       "      <td>Male</td>\n",
       "      <td>Sydney</td>\n",
       "      <td>NSW</td>\n",
       "    </tr>\n",
       "    <tr>\n",
       "      <th>3</th>\n",
       "      <td>2006-09-01</td>\n",
       "      <td>New South Wales</td>\n",
       "      <td>3351254</td>\n",
       "      <td>Male</td>\n",
       "      <td>Sydney</td>\n",
       "      <td>NSW</td>\n",
       "    </tr>\n",
       "    <tr>\n",
       "      <th>4</th>\n",
       "      <td>2006-12-01</td>\n",
       "      <td>New South Wales</td>\n",
       "      <td>3361292</td>\n",
       "      <td>Male</td>\n",
       "      <td>Sydney</td>\n",
       "      <td>NSW</td>\n",
       "    </tr>\n",
       "    <tr>\n",
       "      <th>...</th>\n",
       "      <td>...</td>\n",
       "      <td>...</td>\n",
       "      <td>...</td>\n",
       "      <td>...</td>\n",
       "      <td>...</td>\n",
       "      <td>...</td>\n",
       "    </tr>\n",
       "    <tr>\n",
       "      <th>1048</th>\n",
       "      <td>2014-06-01</td>\n",
       "      <td>Australia</td>\n",
       "      <td>23464086</td>\n",
       "      <td>Persons</td>\n",
       "      <td>Canberra</td>\n",
       "      <td>ACT</td>\n",
       "    </tr>\n",
       "    <tr>\n",
       "      <th>1049</th>\n",
       "      <td>2014-09-01</td>\n",
       "      <td>Australia</td>\n",
       "      <td>23550288</td>\n",
       "      <td>Persons</td>\n",
       "      <td>Canberra</td>\n",
       "      <td>ACT</td>\n",
       "    </tr>\n",
       "    <tr>\n",
       "      <th>1050</th>\n",
       "      <td>2014-12-01</td>\n",
       "      <td>Australia</td>\n",
       "      <td>23614298</td>\n",
       "      <td>Persons</td>\n",
       "      <td>Canberra</td>\n",
       "      <td>ACT</td>\n",
       "    </tr>\n",
       "    <tr>\n",
       "      <th>1051</th>\n",
       "      <td>2015-03-01</td>\n",
       "      <td>Australia</td>\n",
       "      <td>23708240</td>\n",
       "      <td>Persons</td>\n",
       "      <td>Canberra</td>\n",
       "      <td>ACT</td>\n",
       "    </tr>\n",
       "    <tr>\n",
       "      <th>1052</th>\n",
       "      <td>2015-06-01</td>\n",
       "      <td>Australia</td>\n",
       "      <td>23781169</td>\n",
       "      <td>Persons</td>\n",
       "      <td>Canberra</td>\n",
       "      <td>ACT</td>\n",
       "    </tr>\n",
       "  </tbody>\n",
       "</table>\n",
       "<p>1053 rows × 6 columns</p>\n",
       "</div>"
      ],
      "text/plain": [
       "           Date            State  Population    Genre Capital City Alias\n",
       "0    2005-12-01  New South Wales     3327461     Male       Sydney   NSW\n",
       "1    2006-03-01  New South Wales     3336005     Male       Sydney   NSW\n",
       "2    2006-06-01  New South Wales     3339035     Male       Sydney   NSW\n",
       "3    2006-09-01  New South Wales     3351254     Male       Sydney   NSW\n",
       "4    2006-12-01  New South Wales     3361292     Male       Sydney   NSW\n",
       "...         ...              ...         ...      ...          ...   ...\n",
       "1048 2014-06-01        Australia    23464086  Persons     Canberra   ACT\n",
       "1049 2014-09-01        Australia    23550288  Persons     Canberra   ACT\n",
       "1050 2014-12-01        Australia    23614298  Persons     Canberra   ACT\n",
       "1051 2015-03-01        Australia    23708240  Persons     Canberra   ACT\n",
       "1052 2015-06-01        Australia    23781169  Persons     Canberra   ACT\n",
       "\n",
       "[1053 rows x 6 columns]"
      ]
     },
     "execution_count": 41,
     "metadata": {},
     "output_type": "execute_result"
    }
   ],
   "source": [
    "## Join one DF\n",
    "pop_df.join(mapping.set_index('State'), on='State')"
   ]
  },
  {
   "cell_type": "code",
   "execution_count": 42,
   "metadata": {},
   "outputs": [],
   "source": [
    "## Join multiple DF\n",
    "merge1_df = pop_df.merge(mapping,on='State')"
   ]
  },
  {
   "cell_type": "code",
   "execution_count": 43,
   "metadata": {},
   "outputs": [
    {
     "data": {
      "text/html": [
       "<div>\n",
       "<style scoped>\n",
       "    .dataframe tbody tr th:only-of-type {\n",
       "        vertical-align: middle;\n",
       "    }\n",
       "\n",
       "    .dataframe tbody tr th {\n",
       "        vertical-align: top;\n",
       "    }\n",
       "\n",
       "    .dataframe thead th {\n",
       "        text-align: right;\n",
       "    }\n",
       "</style>\n",
       "<table border=\"1\" class=\"dataframe\">\n",
       "  <thead>\n",
       "    <tr style=\"text-align: right;\">\n",
       "      <th></th>\n",
       "      <th>Date</th>\n",
       "      <th>State</th>\n",
       "      <th>Population</th>\n",
       "      <th>Genre</th>\n",
       "      <th>Capital City</th>\n",
       "      <th>Alias</th>\n",
       "    </tr>\n",
       "  </thead>\n",
       "  <tbody>\n",
       "    <tr>\n",
       "      <th>0</th>\n",
       "      <td>2005-12-01</td>\n",
       "      <td>New South Wales</td>\n",
       "      <td>3327461</td>\n",
       "      <td>Male</td>\n",
       "      <td>Sydney</td>\n",
       "      <td>NSW</td>\n",
       "    </tr>\n",
       "    <tr>\n",
       "      <th>1</th>\n",
       "      <td>2006-03-01</td>\n",
       "      <td>New South Wales</td>\n",
       "      <td>3336005</td>\n",
       "      <td>Male</td>\n",
       "      <td>Sydney</td>\n",
       "      <td>NSW</td>\n",
       "    </tr>\n",
       "    <tr>\n",
       "      <th>2</th>\n",
       "      <td>2006-06-01</td>\n",
       "      <td>New South Wales</td>\n",
       "      <td>3339035</td>\n",
       "      <td>Male</td>\n",
       "      <td>Sydney</td>\n",
       "      <td>NSW</td>\n",
       "    </tr>\n",
       "    <tr>\n",
       "      <th>3</th>\n",
       "      <td>2006-09-01</td>\n",
       "      <td>New South Wales</td>\n",
       "      <td>3351254</td>\n",
       "      <td>Male</td>\n",
       "      <td>Sydney</td>\n",
       "      <td>NSW</td>\n",
       "    </tr>\n",
       "    <tr>\n",
       "      <th>4</th>\n",
       "      <td>2006-12-01</td>\n",
       "      <td>New South Wales</td>\n",
       "      <td>3361292</td>\n",
       "      <td>Male</td>\n",
       "      <td>Sydney</td>\n",
       "      <td>NSW</td>\n",
       "    </tr>\n",
       "  </tbody>\n",
       "</table>\n",
       "</div>"
      ],
      "text/plain": [
       "        Date            State  Population Genre Capital City Alias\n",
       "0 2005-12-01  New South Wales     3327461  Male       Sydney   NSW\n",
       "1 2006-03-01  New South Wales     3336005  Male       Sydney   NSW\n",
       "2 2006-06-01  New South Wales     3339035  Male       Sydney   NSW\n",
       "3 2006-09-01  New South Wales     3351254  Male       Sydney   NSW\n",
       "4 2006-12-01  New South Wales     3361292  Male       Sydney   NSW"
      ]
     },
     "execution_count": 43,
     "metadata": {},
     "output_type": "execute_result"
    }
   ],
   "source": [
    "merge1_df.head()"
   ]
  },
  {
   "cell_type": "code",
   "execution_count": 44,
   "metadata": {},
   "outputs": [],
   "source": [
    "final_df = pd.merge(merge1_df,index_df, how= 'left',left_on =['Date', 'Capital City'], right_on = ['Date', 'Capital City'])"
   ]
  },
  {
   "cell_type": "code",
   "execution_count": 45,
   "metadata": {},
   "outputs": [
    {
     "data": {
      "text/html": [
       "<div>\n",
       "<style scoped>\n",
       "    .dataframe tbody tr th:only-of-type {\n",
       "        vertical-align: middle;\n",
       "    }\n",
       "\n",
       "    .dataframe tbody tr th {\n",
       "        vertical-align: top;\n",
       "    }\n",
       "\n",
       "    .dataframe thead th {\n",
       "        text-align: right;\n",
       "    }\n",
       "</style>\n",
       "<table border=\"1\" class=\"dataframe\">\n",
       "  <thead>\n",
       "    <tr style=\"text-align: right;\">\n",
       "      <th></th>\n",
       "      <th>Date</th>\n",
       "      <th>State</th>\n",
       "      <th>Population</th>\n",
       "      <th>Genre</th>\n",
       "      <th>Capital City</th>\n",
       "      <th>Alias</th>\n",
       "      <th>Index</th>\n",
       "    </tr>\n",
       "  </thead>\n",
       "  <tbody>\n",
       "    <tr>\n",
       "      <th>0</th>\n",
       "      <td>2005-12-01</td>\n",
       "      <td>New South Wales</td>\n",
       "      <td>3327461</td>\n",
       "      <td>Male</td>\n",
       "      <td>Sydney</td>\n",
       "      <td>NSW</td>\n",
       "      <td>81.8</td>\n",
       "    </tr>\n",
       "    <tr>\n",
       "      <th>1</th>\n",
       "      <td>2006-03-01</td>\n",
       "      <td>New South Wales</td>\n",
       "      <td>3336005</td>\n",
       "      <td>Male</td>\n",
       "      <td>Sydney</td>\n",
       "      <td>NSW</td>\n",
       "      <td>80.8</td>\n",
       "    </tr>\n",
       "    <tr>\n",
       "      <th>2</th>\n",
       "      <td>2006-06-01</td>\n",
       "      <td>New South Wales</td>\n",
       "      <td>3339035</td>\n",
       "      <td>Male</td>\n",
       "      <td>Sydney</td>\n",
       "      <td>NSW</td>\n",
       "      <td>82.3</td>\n",
       "    </tr>\n",
       "    <tr>\n",
       "      <th>3</th>\n",
       "      <td>2006-09-01</td>\n",
       "      <td>New South Wales</td>\n",
       "      <td>3351254</td>\n",
       "      <td>Male</td>\n",
       "      <td>Sydney</td>\n",
       "      <td>NSW</td>\n",
       "      <td>82.0</td>\n",
       "    </tr>\n",
       "    <tr>\n",
       "      <th>4</th>\n",
       "      <td>2006-12-01</td>\n",
       "      <td>New South Wales</td>\n",
       "      <td>3361292</td>\n",
       "      <td>Male</td>\n",
       "      <td>Sydney</td>\n",
       "      <td>NSW</td>\n",
       "      <td>82.7</td>\n",
       "    </tr>\n",
       "  </tbody>\n",
       "</table>\n",
       "</div>"
      ],
      "text/plain": [
       "        Date            State  Population Genre Capital City Alias  Index\n",
       "0 2005-12-01  New South Wales     3327461  Male       Sydney   NSW   81.8\n",
       "1 2006-03-01  New South Wales     3336005  Male       Sydney   NSW   80.8\n",
       "2 2006-06-01  New South Wales     3339035  Male       Sydney   NSW   82.3\n",
       "3 2006-09-01  New South Wales     3351254  Male       Sydney   NSW   82.0\n",
       "4 2006-12-01  New South Wales     3361292  Male       Sydney   NSW   82.7"
      ]
     },
     "execution_count": 45,
     "metadata": {},
     "output_type": "execute_result"
    }
   ],
   "source": [
    "final_df.head()"
   ]
  },
  {
   "cell_type": "markdown",
   "metadata": {},
   "source": [
    "<a id='section4'></a>\n",
    "\n",
    "# **4. Aggregation**\n",
    "\n",
    "Need to do aggregation before combine the Population - Index dataframe with Unemployement Rate Dataset"
   ]
  },
  {
   "cell_type": "code",
   "execution_count": 46,
   "metadata": {},
   "outputs": [
    {
     "data": {
      "text/html": [
       "<div>\n",
       "<style scoped>\n",
       "    .dataframe tbody tr th:only-of-type {\n",
       "        vertical-align: middle;\n",
       "    }\n",
       "\n",
       "    .dataframe tbody tr th {\n",
       "        vertical-align: top;\n",
       "    }\n",
       "\n",
       "    .dataframe thead th {\n",
       "        text-align: right;\n",
       "    }\n",
       "</style>\n",
       "<table border=\"1\" class=\"dataframe\">\n",
       "  <thead>\n",
       "    <tr style=\"text-align: right;\">\n",
       "      <th></th>\n",
       "      <th>Date</th>\n",
       "      <th>State</th>\n",
       "      <th>Population</th>\n",
       "      <th>Genre</th>\n",
       "      <th>Capital City</th>\n",
       "      <th>Alias</th>\n",
       "      <th>Index</th>\n",
       "    </tr>\n",
       "  </thead>\n",
       "  <tbody>\n",
       "    <tr>\n",
       "      <th>0</th>\n",
       "      <td>2005-12-01</td>\n",
       "      <td>New South Wales</td>\n",
       "      <td>3327461</td>\n",
       "      <td>Male</td>\n",
       "      <td>Sydney</td>\n",
       "      <td>NSW</td>\n",
       "      <td>81.8</td>\n",
       "    </tr>\n",
       "    <tr>\n",
       "      <th>39</th>\n",
       "      <td>2005-12-01</td>\n",
       "      <td>New South Wales</td>\n",
       "      <td>3390562</td>\n",
       "      <td>Female</td>\n",
       "      <td>Sydney</td>\n",
       "      <td>NSW</td>\n",
       "      <td>81.8</td>\n",
       "    </tr>\n",
       "    <tr>\n",
       "      <th>78</th>\n",
       "      <td>2005-12-01</td>\n",
       "      <td>New South Wales</td>\n",
       "      <td>6718023</td>\n",
       "      <td>Persons</td>\n",
       "      <td>Sydney</td>\n",
       "      <td>NSW</td>\n",
       "      <td>81.8</td>\n",
       "    </tr>\n",
       "  </tbody>\n",
       "</table>\n",
       "</div>"
      ],
      "text/plain": [
       "         Date            State  Population    Genre Capital City Alias  Index\n",
       "0  2005-12-01  New South Wales     3327461     Male       Sydney   NSW   81.8\n",
       "39 2005-12-01  New South Wales     3390562   Female       Sydney   NSW   81.8\n",
       "78 2005-12-01  New South Wales     6718023  Persons       Sydney   NSW   81.8"
      ]
     },
     "execution_count": 46,
     "metadata": {},
     "output_type": "execute_result"
    }
   ],
   "source": [
    "## Find data\n",
    "final_df.loc[(final_df['State'] == 'New South Wales') & (final_df['Date']=='2005-12-01')]"
   ]
  },
  {
   "cell_type": "code",
   "execution_count": 47,
   "metadata": {},
   "outputs": [],
   "source": [
    "#SUM the population\n",
    "temp_final1 = final_df.groupby(['Date','State','Capital City'])['Population'].sum()\n",
    "\n",
    "#Max the price index because the type of data like master price index each state\n",
    "temp_final2 = final_df.groupby(['Date','State','Capital City'])['Index'].max()\n",
    "final_agg_df = pd.merge(temp_final1, temp_final2, left_index = True, right_index = True).reset_index()"
   ]
  },
  {
   "cell_type": "code",
   "execution_count": 48,
   "metadata": {},
   "outputs": [
    {
     "data": {
      "text/html": [
       "<div>\n",
       "<style scoped>\n",
       "    .dataframe tbody tr th:only-of-type {\n",
       "        vertical-align: middle;\n",
       "    }\n",
       "\n",
       "    .dataframe tbody tr th {\n",
       "        vertical-align: top;\n",
       "    }\n",
       "\n",
       "    .dataframe thead th {\n",
       "        text-align: right;\n",
       "    }\n",
       "</style>\n",
       "<table border=\"1\" class=\"dataframe\">\n",
       "  <thead>\n",
       "    <tr style=\"text-align: right;\">\n",
       "      <th></th>\n",
       "      <th>Date</th>\n",
       "      <th>State</th>\n",
       "      <th>Capital City</th>\n",
       "      <th>Population</th>\n",
       "      <th>Index</th>\n",
       "    </tr>\n",
       "  </thead>\n",
       "  <tbody>\n",
       "    <tr>\n",
       "      <th>0</th>\n",
       "      <td>2005-12-01</td>\n",
       "      <td>Australia</td>\n",
       "      <td>Canberra</td>\n",
       "      <td>40623086</td>\n",
       "      <td>71.7</td>\n",
       "    </tr>\n",
       "    <tr>\n",
       "      <th>1</th>\n",
       "      <td>2005-12-01</td>\n",
       "      <td>Australian Capital Territory</td>\n",
       "      <td>Canberra</td>\n",
       "      <td>667010</td>\n",
       "      <td>71.7</td>\n",
       "    </tr>\n",
       "    <tr>\n",
       "      <th>2</th>\n",
       "      <td>2005-12-01</td>\n",
       "      <td>New South Wales</td>\n",
       "      <td>Sydney</td>\n",
       "      <td>13436046</td>\n",
       "      <td>81.8</td>\n",
       "    </tr>\n",
       "    <tr>\n",
       "      <th>3</th>\n",
       "      <td>2005-12-01</td>\n",
       "      <td>Queensland</td>\n",
       "      <td>Brisbane</td>\n",
       "      <td>7928350</td>\n",
       "      <td>75.0</td>\n",
       "    </tr>\n",
       "    <tr>\n",
       "      <th>4</th>\n",
       "      <td>2005-12-01</td>\n",
       "      <td>South Australia</td>\n",
       "      <td>Adelaide</td>\n",
       "      <td>3089704</td>\n",
       "      <td>71.6</td>\n",
       "    </tr>\n",
       "  </tbody>\n",
       "</table>\n",
       "</div>"
      ],
      "text/plain": [
       "        Date                         State Capital City  Population  Index\n",
       "0 2005-12-01                     Australia     Canberra    40623086   71.7\n",
       "1 2005-12-01  Australian Capital Territory     Canberra      667010   71.7\n",
       "2 2005-12-01               New South Wales       Sydney    13436046   81.8\n",
       "3 2005-12-01                    Queensland     Brisbane     7928350   75.0\n",
       "4 2005-12-01               South Australia     Adelaide     3089704   71.6"
      ]
     },
     "execution_count": 48,
     "metadata": {},
     "output_type": "execute_result"
    }
   ],
   "source": [
    "final_agg_df.head()"
   ]
  },
  {
   "cell_type": "markdown",
   "metadata": {},
   "source": [
    "<a id='section5'></a>\n",
    "\n",
    "# **5. Join Unemployment Rate Dataset**\n",
    "\n",
    "Combine Population - Index Dataframe with Unemployment Rate Dataset"
   ]
  },
  {
   "cell_type": "code",
   "execution_count": 49,
   "metadata": {},
   "outputs": [
    {
     "data": {
      "text/html": [
       "<div>\n",
       "<style scoped>\n",
       "    .dataframe tbody tr th:only-of-type {\n",
       "        vertical-align: middle;\n",
       "    }\n",
       "\n",
       "    .dataframe tbody tr th {\n",
       "        vertical-align: top;\n",
       "    }\n",
       "\n",
       "    .dataframe thead th {\n",
       "        text-align: right;\n",
       "    }\n",
       "</style>\n",
       "<table border=\"1\" class=\"dataframe\">\n",
       "  <thead>\n",
       "    <tr style=\"text-align: right;\">\n",
       "      <th></th>\n",
       "      <th>Date</th>\n",
       "      <th>State</th>\n",
       "      <th>Capital City</th>\n",
       "      <th>Population</th>\n",
       "      <th>Index</th>\n",
       "    </tr>\n",
       "  </thead>\n",
       "  <tbody>\n",
       "    <tr>\n",
       "      <th>0</th>\n",
       "      <td>2005-12-01</td>\n",
       "      <td>Australia</td>\n",
       "      <td>Canberra</td>\n",
       "      <td>40623086</td>\n",
       "      <td>71.7</td>\n",
       "    </tr>\n",
       "    <tr>\n",
       "      <th>1</th>\n",
       "      <td>2005-12-01</td>\n",
       "      <td>Australian Capital Territory</td>\n",
       "      <td>Canberra</td>\n",
       "      <td>667010</td>\n",
       "      <td>71.7</td>\n",
       "    </tr>\n",
       "    <tr>\n",
       "      <th>2</th>\n",
       "      <td>2005-12-01</td>\n",
       "      <td>New South Wales</td>\n",
       "      <td>Sydney</td>\n",
       "      <td>13436046</td>\n",
       "      <td>81.8</td>\n",
       "    </tr>\n",
       "    <tr>\n",
       "      <th>3</th>\n",
       "      <td>2005-12-01</td>\n",
       "      <td>Queensland</td>\n",
       "      <td>Brisbane</td>\n",
       "      <td>7928350</td>\n",
       "      <td>75.0</td>\n",
       "    </tr>\n",
       "    <tr>\n",
       "      <th>4</th>\n",
       "      <td>2005-12-01</td>\n",
       "      <td>South Australia</td>\n",
       "      <td>Adelaide</td>\n",
       "      <td>3089704</td>\n",
       "      <td>71.6</td>\n",
       "    </tr>\n",
       "  </tbody>\n",
       "</table>\n",
       "</div>"
      ],
      "text/plain": [
       "        Date                         State Capital City  Population  Index\n",
       "0 2005-12-01                     Australia     Canberra    40623086   71.7\n",
       "1 2005-12-01  Australian Capital Territory     Canberra      667010   71.7\n",
       "2 2005-12-01               New South Wales       Sydney    13436046   81.8\n",
       "3 2005-12-01                    Queensland     Brisbane     7928350   75.0\n",
       "4 2005-12-01               South Australia     Adelaide     3089704   71.6"
      ]
     },
     "execution_count": 49,
     "metadata": {},
     "output_type": "execute_result"
    }
   ],
   "source": [
    "final_agg_df.head()"
   ]
  },
  {
   "cell_type": "code",
   "execution_count": 50,
   "metadata": {},
   "outputs": [
    {
     "data": {
      "text/html": [
       "<div>\n",
       "<style scoped>\n",
       "    .dataframe tbody tr th:only-of-type {\n",
       "        vertical-align: middle;\n",
       "    }\n",
       "\n",
       "    .dataframe tbody tr th {\n",
       "        vertical-align: top;\n",
       "    }\n",
       "\n",
       "    .dataframe thead th {\n",
       "        text-align: right;\n",
       "    }\n",
       "</style>\n",
       "<table border=\"1\" class=\"dataframe\">\n",
       "  <thead>\n",
       "    <tr style=\"text-align: right;\">\n",
       "      <th></th>\n",
       "      <th>State/Territory</th>\n",
       "      <th>Date</th>\n",
       "      <th>Employment Rate (15-64)</th>\n",
       "      <th>Unemployment Rate (15+)</th>\n",
       "      <th>Participation Rate (15+)</th>\n",
       "    </tr>\n",
       "  </thead>\n",
       "  <tbody>\n",
       "    <tr>\n",
       "      <th>0</th>\n",
       "      <td>NSW</td>\n",
       "      <td>1978-02-01</td>\n",
       "      <td>NaN</td>\n",
       "      <td>6.773762</td>\n",
       "      <td>60.735313</td>\n",
       "    </tr>\n",
       "    <tr>\n",
       "      <th>1</th>\n",
       "      <td>NSW</td>\n",
       "      <td>1978-03-01</td>\n",
       "      <td>NaN</td>\n",
       "      <td>6.490161</td>\n",
       "      <td>59.851078</td>\n",
       "    </tr>\n",
       "    <tr>\n",
       "      <th>2</th>\n",
       "      <td>NSW</td>\n",
       "      <td>1978-04-01</td>\n",
       "      <td>63.719468</td>\n",
       "      <td>6.507978</td>\n",
       "      <td>60.168513</td>\n",
       "    </tr>\n",
       "    <tr>\n",
       "      <th>3</th>\n",
       "      <td>NSW</td>\n",
       "      <td>1978-05-01</td>\n",
       "      <td>63.682010</td>\n",
       "      <td>6.115171</td>\n",
       "      <td>60.003564</td>\n",
       "    </tr>\n",
       "    <tr>\n",
       "      <th>4</th>\n",
       "      <td>NSW</td>\n",
       "      <td>1978-06-01</td>\n",
       "      <td>63.682900</td>\n",
       "      <td>6.424127</td>\n",
       "      <td>60.145380</td>\n",
       "    </tr>\n",
       "  </tbody>\n",
       "</table>\n",
       "</div>"
      ],
      "text/plain": [
       "  State/Territory       Date  Employment Rate (15-64)  \\\n",
       "0             NSW 1978-02-01                      NaN   \n",
       "1             NSW 1978-03-01                      NaN   \n",
       "2             NSW 1978-04-01                63.719468   \n",
       "3             NSW 1978-05-01                63.682010   \n",
       "4             NSW 1978-06-01                63.682900   \n",
       "\n",
       "   Unemployment Rate (15+)  Participation Rate (15+)  \n",
       "0                 6.773762                 60.735313  \n",
       "1                 6.490161                 59.851078  \n",
       "2                 6.507978                 60.168513  \n",
       "3                 6.115171                 60.003564  \n",
       "4                 6.424127                 60.145380  "
      ]
     },
     "execution_count": 50,
     "metadata": {},
     "output_type": "execute_result"
    }
   ],
   "source": [
    "unemp_df.head()"
   ]
  },
  {
   "cell_type": "code",
   "execution_count": 51,
   "metadata": {},
   "outputs": [
    {
     "data": {
      "text/html": [
       "<div>\n",
       "<style scoped>\n",
       "    .dataframe tbody tr th:only-of-type {\n",
       "        vertical-align: middle;\n",
       "    }\n",
       "\n",
       "    .dataframe tbody tr th {\n",
       "        vertical-align: top;\n",
       "    }\n",
       "\n",
       "    .dataframe thead th {\n",
       "        text-align: right;\n",
       "    }\n",
       "</style>\n",
       "<table border=\"1\" class=\"dataframe\">\n",
       "  <thead>\n",
       "    <tr style=\"text-align: right;\">\n",
       "      <th></th>\n",
       "      <th>State</th>\n",
       "      <th>Capital City</th>\n",
       "      <th>Alias</th>\n",
       "    </tr>\n",
       "  </thead>\n",
       "  <tbody>\n",
       "    <tr>\n",
       "      <th>0</th>\n",
       "      <td>New South Wales</td>\n",
       "      <td>Sydney</td>\n",
       "      <td>NSW</td>\n",
       "    </tr>\n",
       "    <tr>\n",
       "      <th>1</th>\n",
       "      <td>Victoria</td>\n",
       "      <td>Melbourne</td>\n",
       "      <td>VIC</td>\n",
       "    </tr>\n",
       "    <tr>\n",
       "      <th>2</th>\n",
       "      <td>Queensland</td>\n",
       "      <td>Brisbane</td>\n",
       "      <td>QLD</td>\n",
       "    </tr>\n",
       "    <tr>\n",
       "      <th>3</th>\n",
       "      <td>South Australia</td>\n",
       "      <td>Adelaide</td>\n",
       "      <td>SA</td>\n",
       "    </tr>\n",
       "    <tr>\n",
       "      <th>4</th>\n",
       "      <td>Western Australia</td>\n",
       "      <td>Perth</td>\n",
       "      <td>WA</td>\n",
       "    </tr>\n",
       "  </tbody>\n",
       "</table>\n",
       "</div>"
      ],
      "text/plain": [
       "               State Capital City Alias\n",
       "0    New South Wales       Sydney   NSW\n",
       "1           Victoria    Melbourne   VIC\n",
       "2         Queensland     Brisbane   QLD\n",
       "3    South Australia     Adelaide    SA\n",
       "4  Western Australia        Perth    WA"
      ]
     },
     "execution_count": 51,
     "metadata": {},
     "output_type": "execute_result"
    }
   ],
   "source": [
    "mapping.head()"
   ]
  },
  {
   "cell_type": "code",
   "execution_count": 52,
   "metadata": {},
   "outputs": [],
   "source": [
    "merge_6 = pd.merge(final_agg_df,mapping, how= 'left',left_on =['State', 'Capital City'], right_on = ['State','Capital City'])"
   ]
  },
  {
   "cell_type": "code",
   "execution_count": 53,
   "metadata": {},
   "outputs": [
    {
     "data": {
      "text/html": [
       "<div>\n",
       "<style scoped>\n",
       "    .dataframe tbody tr th:only-of-type {\n",
       "        vertical-align: middle;\n",
       "    }\n",
       "\n",
       "    .dataframe tbody tr th {\n",
       "        vertical-align: top;\n",
       "    }\n",
       "\n",
       "    .dataframe thead th {\n",
       "        text-align: right;\n",
       "    }\n",
       "</style>\n",
       "<table border=\"1\" class=\"dataframe\">\n",
       "  <thead>\n",
       "    <tr style=\"text-align: right;\">\n",
       "      <th></th>\n",
       "      <th>Date</th>\n",
       "      <th>State</th>\n",
       "      <th>Capital City</th>\n",
       "      <th>Population</th>\n",
       "      <th>Index</th>\n",
       "      <th>Alias</th>\n",
       "    </tr>\n",
       "  </thead>\n",
       "  <tbody>\n",
       "    <tr>\n",
       "      <th>0</th>\n",
       "      <td>2005-12-01</td>\n",
       "      <td>Australia</td>\n",
       "      <td>Canberra</td>\n",
       "      <td>40623086</td>\n",
       "      <td>71.7</td>\n",
       "      <td>ACT</td>\n",
       "    </tr>\n",
       "    <tr>\n",
       "      <th>1</th>\n",
       "      <td>2005-12-01</td>\n",
       "      <td>Australian Capital Territory</td>\n",
       "      <td>Canberra</td>\n",
       "      <td>667010</td>\n",
       "      <td>71.7</td>\n",
       "      <td>ACT</td>\n",
       "    </tr>\n",
       "    <tr>\n",
       "      <th>2</th>\n",
       "      <td>2005-12-01</td>\n",
       "      <td>New South Wales</td>\n",
       "      <td>Sydney</td>\n",
       "      <td>13436046</td>\n",
       "      <td>81.8</td>\n",
       "      <td>NSW</td>\n",
       "    </tr>\n",
       "    <tr>\n",
       "      <th>3</th>\n",
       "      <td>2005-12-01</td>\n",
       "      <td>Queensland</td>\n",
       "      <td>Brisbane</td>\n",
       "      <td>7928350</td>\n",
       "      <td>75.0</td>\n",
       "      <td>QLD</td>\n",
       "    </tr>\n",
       "    <tr>\n",
       "      <th>4</th>\n",
       "      <td>2005-12-01</td>\n",
       "      <td>South Australia</td>\n",
       "      <td>Adelaide</td>\n",
       "      <td>3089704</td>\n",
       "      <td>71.6</td>\n",
       "      <td>SA</td>\n",
       "    </tr>\n",
       "  </tbody>\n",
       "</table>\n",
       "</div>"
      ],
      "text/plain": [
       "        Date                         State Capital City  Population  Index  \\\n",
       "0 2005-12-01                     Australia     Canberra    40623086   71.7   \n",
       "1 2005-12-01  Australian Capital Territory     Canberra      667010   71.7   \n",
       "2 2005-12-01               New South Wales       Sydney    13436046   81.8   \n",
       "3 2005-12-01                    Queensland     Brisbane     7928350   75.0   \n",
       "4 2005-12-01               South Australia     Adelaide     3089704   71.6   \n",
       "\n",
       "  Alias  \n",
       "0   ACT  \n",
       "1   ACT  \n",
       "2   NSW  \n",
       "3   QLD  \n",
       "4    SA  "
      ]
     },
     "execution_count": 53,
     "metadata": {},
     "output_type": "execute_result"
    }
   ],
   "source": [
    "merge_6.head()"
   ]
  },
  {
   "cell_type": "code",
   "execution_count": 54,
   "metadata": {},
   "outputs": [],
   "source": [
    "final_agg_df = pd.merge(merge_6, unemp_df, how = 'left',left_on =['Alias', 'Date'], right_on = ['State/Territory', 'Date'])"
   ]
  },
  {
   "cell_type": "markdown",
   "metadata": {},
   "source": [
    "#### Need to change Date format from datetime to str for chart needs"
   ]
  },
  {
   "cell_type": "code",
   "execution_count": 55,
   "metadata": {},
   "outputs": [],
   "source": [
    "final_agg_df['Date'] = final_agg_df['Date'].astype(str)"
   ]
  },
  {
   "cell_type": "code",
   "execution_count": 56,
   "metadata": {},
   "outputs": [
    {
     "data": {
      "text/html": [
       "<div>\n",
       "<style scoped>\n",
       "    .dataframe tbody tr th:only-of-type {\n",
       "        vertical-align: middle;\n",
       "    }\n",
       "\n",
       "    .dataframe tbody tr th {\n",
       "        vertical-align: top;\n",
       "    }\n",
       "\n",
       "    .dataframe thead th {\n",
       "        text-align: right;\n",
       "    }\n",
       "</style>\n",
       "<table border=\"1\" class=\"dataframe\">\n",
       "  <thead>\n",
       "    <tr style=\"text-align: right;\">\n",
       "      <th></th>\n",
       "      <th>Date</th>\n",
       "      <th>State</th>\n",
       "      <th>Capital City</th>\n",
       "      <th>Population</th>\n",
       "      <th>Index</th>\n",
       "      <th>Alias</th>\n",
       "      <th>State/Territory</th>\n",
       "      <th>Employment Rate (15-64)</th>\n",
       "      <th>Unemployment Rate (15+)</th>\n",
       "      <th>Participation Rate (15+)</th>\n",
       "    </tr>\n",
       "  </thead>\n",
       "  <tbody>\n",
       "    <tr>\n",
       "      <th>0</th>\n",
       "      <td>2005-12-01</td>\n",
       "      <td>Australia</td>\n",
       "      <td>Canberra</td>\n",
       "      <td>40623086</td>\n",
       "      <td>71.7</td>\n",
       "      <td>ACT</td>\n",
       "      <td>ACT</td>\n",
       "      <td>78.393068</td>\n",
       "      <td>3.422536</td>\n",
       "      <td>72.006718</td>\n",
       "    </tr>\n",
       "    <tr>\n",
       "      <th>1</th>\n",
       "      <td>2005-12-01</td>\n",
       "      <td>Australian Capital Territory</td>\n",
       "      <td>Canberra</td>\n",
       "      <td>667010</td>\n",
       "      <td>71.7</td>\n",
       "      <td>ACT</td>\n",
       "      <td>ACT</td>\n",
       "      <td>78.393068</td>\n",
       "      <td>3.422536</td>\n",
       "      <td>72.006718</td>\n",
       "    </tr>\n",
       "    <tr>\n",
       "      <th>2</th>\n",
       "      <td>2005-12-01</td>\n",
       "      <td>New South Wales</td>\n",
       "      <td>Sydney</td>\n",
       "      <td>13436046</td>\n",
       "      <td>81.8</td>\n",
       "      <td>NSW</td>\n",
       "      <td>NSW</td>\n",
       "      <td>70.481740</td>\n",
       "      <td>5.293757</td>\n",
       "      <td>63.106123</td>\n",
       "    </tr>\n",
       "    <tr>\n",
       "      <th>3</th>\n",
       "      <td>2005-12-01</td>\n",
       "      <td>Queensland</td>\n",
       "      <td>Brisbane</td>\n",
       "      <td>7928350</td>\n",
       "      <td>75.0</td>\n",
       "      <td>QLD</td>\n",
       "      <td>QLD</td>\n",
       "      <td>73.205813</td>\n",
       "      <td>4.863610</td>\n",
       "      <td>66.092553</td>\n",
       "    </tr>\n",
       "    <tr>\n",
       "      <th>4</th>\n",
       "      <td>2005-12-01</td>\n",
       "      <td>South Australia</td>\n",
       "      <td>Adelaide</td>\n",
       "      <td>3089704</td>\n",
       "      <td>71.6</td>\n",
       "      <td>SA</td>\n",
       "      <td>SA</td>\n",
       "      <td>71.345997</td>\n",
       "      <td>4.868181</td>\n",
       "      <td>61.820680</td>\n",
       "    </tr>\n",
       "  </tbody>\n",
       "</table>\n",
       "</div>"
      ],
      "text/plain": [
       "         Date                         State Capital City  Population  Index  \\\n",
       "0  2005-12-01                     Australia     Canberra    40623086   71.7   \n",
       "1  2005-12-01  Australian Capital Territory     Canberra      667010   71.7   \n",
       "2  2005-12-01               New South Wales       Sydney    13436046   81.8   \n",
       "3  2005-12-01                    Queensland     Brisbane     7928350   75.0   \n",
       "4  2005-12-01               South Australia     Adelaide     3089704   71.6   \n",
       "\n",
       "  Alias State/Territory  Employment Rate (15-64)  Unemployment Rate (15+)  \\\n",
       "0   ACT             ACT                78.393068                 3.422536   \n",
       "1   ACT             ACT                78.393068                 3.422536   \n",
       "2   NSW             NSW                70.481740                 5.293757   \n",
       "3   QLD             QLD                73.205813                 4.863610   \n",
       "4    SA              SA                71.345997                 4.868181   \n",
       "\n",
       "   Participation Rate (15+)  \n",
       "0                 72.006718  \n",
       "1                 72.006718  \n",
       "2                 63.106123  \n",
       "3                 66.092553  \n",
       "4                 61.820680  "
      ]
     },
     "execution_count": 56,
     "metadata": {},
     "output_type": "execute_result"
    }
   ],
   "source": [
    "final_agg_df.head()"
   ]
  },
  {
   "cell_type": "code",
   "execution_count": 58,
   "metadata": {},
   "outputs": [],
   "source": [
    "final_agg_df['Year'] = final_agg_df['Date'].str[0:4]"
   ]
  },
  {
   "cell_type": "code",
   "execution_count": 59,
   "metadata": {},
   "outputs": [
    {
     "data": {
      "text/html": [
       "<div>\n",
       "<style scoped>\n",
       "    .dataframe tbody tr th:only-of-type {\n",
       "        vertical-align: middle;\n",
       "    }\n",
       "\n",
       "    .dataframe tbody tr th {\n",
       "        vertical-align: top;\n",
       "    }\n",
       "\n",
       "    .dataframe thead th {\n",
       "        text-align: right;\n",
       "    }\n",
       "</style>\n",
       "<table border=\"1\" class=\"dataframe\">\n",
       "  <thead>\n",
       "    <tr style=\"text-align: right;\">\n",
       "      <th></th>\n",
       "      <th>Date</th>\n",
       "      <th>State</th>\n",
       "      <th>Capital City</th>\n",
       "      <th>Population</th>\n",
       "      <th>Index</th>\n",
       "      <th>Alias</th>\n",
       "      <th>State/Territory</th>\n",
       "      <th>Employment Rate (15-64)</th>\n",
       "      <th>Unemployment Rate (15+)</th>\n",
       "      <th>Participation Rate (15+)</th>\n",
       "      <th>Year</th>\n",
       "    </tr>\n",
       "  </thead>\n",
       "  <tbody>\n",
       "    <tr>\n",
       "      <th>0</th>\n",
       "      <td>2005-12-01</td>\n",
       "      <td>Australia</td>\n",
       "      <td>Canberra</td>\n",
       "      <td>40623086</td>\n",
       "      <td>71.7</td>\n",
       "      <td>ACT</td>\n",
       "      <td>ACT</td>\n",
       "      <td>78.393068</td>\n",
       "      <td>3.422536</td>\n",
       "      <td>72.006718</td>\n",
       "      <td>2005</td>\n",
       "    </tr>\n",
       "    <tr>\n",
       "      <th>1</th>\n",
       "      <td>2005-12-01</td>\n",
       "      <td>Australian Capital Territory</td>\n",
       "      <td>Canberra</td>\n",
       "      <td>667010</td>\n",
       "      <td>71.7</td>\n",
       "      <td>ACT</td>\n",
       "      <td>ACT</td>\n",
       "      <td>78.393068</td>\n",
       "      <td>3.422536</td>\n",
       "      <td>72.006718</td>\n",
       "      <td>2005</td>\n",
       "    </tr>\n",
       "    <tr>\n",
       "      <th>2</th>\n",
       "      <td>2005-12-01</td>\n",
       "      <td>New South Wales</td>\n",
       "      <td>Sydney</td>\n",
       "      <td>13436046</td>\n",
       "      <td>81.8</td>\n",
       "      <td>NSW</td>\n",
       "      <td>NSW</td>\n",
       "      <td>70.481740</td>\n",
       "      <td>5.293757</td>\n",
       "      <td>63.106123</td>\n",
       "      <td>2005</td>\n",
       "    </tr>\n",
       "    <tr>\n",
       "      <th>3</th>\n",
       "      <td>2005-12-01</td>\n",
       "      <td>Queensland</td>\n",
       "      <td>Brisbane</td>\n",
       "      <td>7928350</td>\n",
       "      <td>75.0</td>\n",
       "      <td>QLD</td>\n",
       "      <td>QLD</td>\n",
       "      <td>73.205813</td>\n",
       "      <td>4.863610</td>\n",
       "      <td>66.092553</td>\n",
       "      <td>2005</td>\n",
       "    </tr>\n",
       "    <tr>\n",
       "      <th>4</th>\n",
       "      <td>2005-12-01</td>\n",
       "      <td>South Australia</td>\n",
       "      <td>Adelaide</td>\n",
       "      <td>3089704</td>\n",
       "      <td>71.6</td>\n",
       "      <td>SA</td>\n",
       "      <td>SA</td>\n",
       "      <td>71.345997</td>\n",
       "      <td>4.868181</td>\n",
       "      <td>61.820680</td>\n",
       "      <td>2005</td>\n",
       "    </tr>\n",
       "  </tbody>\n",
       "</table>\n",
       "</div>"
      ],
      "text/plain": [
       "         Date                         State Capital City  Population  Index  \\\n",
       "0  2005-12-01                     Australia     Canberra    40623086   71.7   \n",
       "1  2005-12-01  Australian Capital Territory     Canberra      667010   71.7   \n",
       "2  2005-12-01               New South Wales       Sydney    13436046   81.8   \n",
       "3  2005-12-01                    Queensland     Brisbane     7928350   75.0   \n",
       "4  2005-12-01               South Australia     Adelaide     3089704   71.6   \n",
       "\n",
       "  Alias State/Territory  Employment Rate (15-64)  Unemployment Rate (15+)  \\\n",
       "0   ACT             ACT                78.393068                 3.422536   \n",
       "1   ACT             ACT                78.393068                 3.422536   \n",
       "2   NSW             NSW                70.481740                 5.293757   \n",
       "3   QLD             QLD                73.205813                 4.863610   \n",
       "4    SA              SA                71.345997                 4.868181   \n",
       "\n",
       "   Participation Rate (15+)  Year  \n",
       "0                 72.006718  2005  \n",
       "1                 72.006718  2005  \n",
       "2                 63.106123  2005  \n",
       "3                 66.092553  2005  \n",
       "4                 61.820680  2005  "
      ]
     },
     "execution_count": 59,
     "metadata": {},
     "output_type": "execute_result"
    }
   ],
   "source": [
    "final_agg_df.head()"
   ]
  },
  {
   "cell_type": "markdown",
   "metadata": {},
   "source": [
    "<a id='section6'></a>\n",
    "\n",
    "# **6. Analysing the Relationship**"
   ]
  },
  {
   "cell_type": "markdown",
   "metadata": {},
   "source": [
    "### 6A. Check Distribution "
   ]
  },
  {
   "cell_type": "code",
   "execution_count": 60,
   "metadata": {},
   "outputs": [],
   "source": [
    "#metrics column\n",
    "corrmat = final_agg_df.corr()"
   ]
  },
  {
   "cell_type": "markdown",
   "metadata": {},
   "source": [
    "#### Histogram of the metrics"
   ]
  },
  {
   "cell_type": "code",
   "execution_count": 61,
   "metadata": {},
   "outputs": [
    {
     "data": {
      "image/png": "[encoded data removed]",
      "text/plain": [
       "<Figure size 432x288 with 1 Axes>"
      ]
     },
     "metadata": {
      "needs_background": "light"
     },
     "output_type": "display_data"
    },
    {
     "name": "stdout",
     "output_type": "stream",
     "text": [
      "Skewness of Population: 1.803640\n",
      "Kurtosis of Population: 2.031909\n"
     ]
    },
    {
     "data": {
      "image/png": "[encoded data removed]",
      "text/plain": [
       "<Figure size 432x288 with 1 Axes>"
      ]
     },
     "metadata": {
      "needs_background": "light"
     },
     "output_type": "display_data"
    },
    {
     "name": "stdout",
     "output_type": "stream",
     "text": [
      "Skewness of Index: -0.103254\n",
      "Kurtosis of Index: 1.312416\n"
     ]
    },
    {
     "data": {
      "image/png": "[encoded data removed]",
      "text/plain": [
       "<Figure size 432x288 with 1 Axes>"
      ]
     },
     "metadata": {
      "needs_background": "light"
     },
     "output_type": "display_data"
    },
    {
     "name": "stdout",
     "output_type": "stream",
     "text": [
      "Skewness of Employment Rate (15-64): 0.411806\n",
      "Kurtosis of Employment Rate (15-64): -0.910321\n"
     ]
    },
    {
     "data": {
      "image/png": "[encoded data removed]",
      "text/plain": [
       "<Figure size 432x288 with 1 Axes>"
      ]
     },
     "metadata": {
      "needs_background": "light"
     },
     "output_type": "display_data"
    },
    {
     "name": "stdout",
     "output_type": "stream",
     "text": [
      "Skewness of Unemployment Rate (15+): 0.145954\n",
      "Kurtosis of Unemployment Rate (15+): -0.268496\n"
     ]
    },
    {
     "data": {
      "image/png": "[encoded data removed]",
      "text/plain": [
       "<Figure size 432x288 with 1 Axes>"
      ]
     },
     "metadata": {
      "needs_background": "light"
     },
     "output_type": "display_data"
    },
    {
     "name": "stdout",
     "output_type": "stream",
     "text": [
      "Skewness of Participation Rate (15+): 0.314926\n",
      "Kurtosis of Participation Rate (15+): -1.126411\n"
     ]
    }
   ],
   "source": [
    "arr = ['Population', 'Index', 'Employment Rate (15-64)',\n",
    "       'Unemployment Rate (15+)', 'Participation Rate (15+)']\n",
    "\n",
    "for i in range(len(arr)):\n",
    "    sns.distplot(final_agg_df[arr[i]]);\n",
    "    plt.ticklabel_format(style='plain', axis='y')\n",
    "    plt.show()\n",
    "    print(\"Skewness of %s: %f\" % (arr[i], final_agg_df[arr[i]].skew()))\n",
    "    print(\"Kurtosis of %s: %f\" % (arr[i], final_agg_df[arr[i]].kurt()))"
   ]
  },
  {
   "cell_type": "markdown",
   "metadata": {},
   "source": [
    "#### Relationship dimensions and metrics"
   ]
  },
  {
   "cell_type": "code",
   "execution_count": 68,
   "metadata": {},
   "outputs": [
    {
     "data": {
      "application/javascript": [
       "IPython.OutputArea.prototype._should_scroll = function(lines) {\n",
       "    return false;\n",
       "}\n"
      ],
      "text/plain": [
       "<IPython.core.display.Javascript object>"
      ]
     },
     "metadata": {},
     "output_type": "display_data"
    }
   ],
   "source": [
    "\n",
    "%%javascript\n",
    "IPython.OutputArea.prototype._should_scroll = function(lines) {\n",
    "    return false;\n",
    "}"
   ]
  },
  {
   "cell_type": "markdown",
   "metadata": {},
   "source": [
    "To disable auto-scrolling, execute this javascript in a notebook cell before other cells are executed:\n",
    "https://stackoverflow.com/questions/41641205/how-to-avoid-output-into-scrollable-frames-in-jupyter-notebook/41646557"
   ]
  },
  {
   "cell_type": "code",
   "execution_count": 69,
   "metadata": {},
   "outputs": [
    {
     "data": {
      "image/png": "[encoded data removed]",
      "text/plain": [
       "<Figure size 576x432 with 1 Axes>"
      ]
     },
     "metadata": {
      "needs_background": "light"
     },
     "output_type": "display_data"
    },
    {
     "data": {
      "image/png": "[encoded data removed]",
      "text/plain": [
       "<Figure size 576x432 with 1 Axes>"
      ]
     },
     "metadata": {
      "needs_background": "light"
     },
     "output_type": "display_data"
    },
    {
     "data": {
      "image/png": "[encoded data removed]",
      "text/plain": [
       "<Figure size 576x432 with 1 Axes>"
      ]
     },
     "metadata": {
      "needs_background": "light"
     },
     "output_type": "display_data"
    },
    {
     "data": {
      "image/png": "[encoded data removed]",
      "text/plain": [
       "<Figure size 576x432 with 1 Axes>"
      ]
     },
     "metadata": {
      "needs_background": "light"
     },
     "output_type": "display_data"
    },
    {
     "data": {
      "image/png": "[encoded data removed]",
      "text/plain": [
       "<Figure size 576x432 with 1 Axes>"
      ]
     },
     "metadata": {
      "needs_background": "light"
     },
     "output_type": "display_data"
    }
   ],
   "source": [
    "var = 'Year'\n",
    "\n",
    "for i in range(len(arr)):\n",
    "    data = pd.concat([final_agg_df[arr[i]], final_agg_df[var]],axis = 1)\n",
    "    f,ax = plt.subplots(figsize=(8,6))\n",
    "    fig = sns.boxplot(x=var, y= arr[i],data = data)\n",
    "    plt.show()\n",
    "\n"
   ]
  },
  {
   "cell_type": "markdown",
   "metadata": {},
   "source": [
    "#### Correlation Metric"
   ]
  },
  {
   "cell_type": "code",
   "execution_count": 70,
   "metadata": {
    "scrolled": true
   },
   "outputs": [
    {
     "data": {
      "image/png": "[encoded data removed]",
      "text/plain": [
       "<Figure size 864x648 with 2 Axes>"
      ]
     },
     "metadata": {
      "needs_background": "light"
     },
     "output_type": "display_data"
    }
   ],
   "source": [
    "#correlation matrix\n",
    "corrmat = final_agg_df.corr()\n",
    "f, ax = plt.subplots(figsize=(12, 9))\n",
    "sns.heatmap(corrmat, vmax=.8, square=True);"
   ]
  },
  {
   "cell_type": "code",
   "execution_count": 71,
   "metadata": {},
   "outputs": [
    {
     "data": {
      "image/png": "[encoded data removed]",
      "text/plain": [
       "<Figure size 432x288 with 2 Axes>"
      ]
     },
     "metadata": {},
     "output_type": "display_data"
    }
   ],
   "source": [
    "#Index correlation matrix\n",
    "k = 6 #number of variables for heatmap\n",
    "cols = corrmat.nlargest(k, 'Population')['Population'].index\n",
    "cm = np.corrcoef(final_agg_df[cols].values.T)\n",
    "sns.set(font_scale=1.25)\n",
    "hm = sns.heatmap(cm, cbar=True, annot=True, square=True, fmt='.2f', annot_kws={'size': 10}, yticklabels=cols.values, xticklabels=cols.values)\n",
    "plt.show()"
   ]
  },
  {
   "cell_type": "markdown",
   "metadata": {},
   "source": [
    "### 6B.Relationship between the metrics (Focusing on Index and Unemployment Rate (15+))"
   ]
  },
  {
   "cell_type": "code",
   "execution_count": 72,
   "metadata": {},
   "outputs": [
    {
     "name": "stderr",
     "output_type": "stream",
     "text": [
      "*c* argument looks like a single numeric RGB or RGBA sequence, which should be avoided as value-mapping will have precedence in case its length matches with *x* & *y*.  Please use the *color* keyword-argument or provide a 2-D array with a single row if you intend to specify the same RGB or RGBA value for all points.\n"
     ]
    },
    {
     "data": {
      "text/plain": [
       "<AxesSubplot:xlabel='Index', ylabel='Unemployment Rate (15+)'>"
      ]
     },
     "execution_count": 72,
     "metadata": {},
     "output_type": "execute_result"
    },
    {
     "data": {
      "image/png": "[encoded data removed]",
      "text/plain": [
       "<Figure size 432x288 with 1 Axes>"
      ]
     },
     "metadata": {},
     "output_type": "display_data"
    }
   ],
   "source": [
    "#scatter plot var Price Index\n",
    "var = 'Index'\n",
    "data = pd.concat([final_agg_df['Unemployment Rate (15+)'], final_agg_df[var]], axis=1)\n",
    "data.plot.scatter(x=var, y='Unemployment Rate (15+)', ylim=(0.50000))"
   ]
  },
  {
   "cell_type": "code",
   "execution_count": 73,
   "metadata": {},
   "outputs": [
    {
     "name": "stderr",
     "output_type": "stream",
     "text": [
      "*c* argument looks like a single numeric RGB or RGBA sequence, which should be avoided as value-mapping will have precedence in case its length matches with *x* & *y*.  Please use the *color* keyword-argument or provide a 2-D array with a single row if you intend to specify the same RGB or RGBA value for all points.\n"
     ]
    },
    {
     "data": {
      "text/plain": [
       "<AxesSubplot:xlabel='Unemployment Rate (15+)', ylabel='Index'>"
      ]
     },
     "execution_count": 73,
     "metadata": {},
     "output_type": "execute_result"
    },
    {
     "data": {
      "image/png": "[encoded data removed]",
      "text/plain": [
       "<Figure size 432x288 with 1 Axes>"
      ]
     },
     "metadata": {},
     "output_type": "display_data"
    }
   ],
   "source": [
    "#scatter plot var Unemployment Rate (15+)\n",
    "var = 'Unemployment Rate (15+)'\n",
    "data = pd.concat([final_agg_df['Index'], final_agg_df[var]], axis=1)\n",
    "data.plot.scatter(x=var, y='Index', ylim=(0.50000))"
   ]
  },
  {
   "cell_type": "markdown",
   "metadata": {},
   "source": [
    "<b>Preparation Chart House Price Index & Unemployment Rate DF</b>"
   ]
  },
  {
   "cell_type": "code",
   "execution_count": 79,
   "metadata": {},
   "outputs": [],
   "source": [
    "hpi_ur_df = final_agg_df.groupby(['Year', 'State'])['Index','Unemployment Rate (15+)'].mean().reset_index()"
   ]
  },
  {
   "cell_type": "code",
   "execution_count": 80,
   "metadata": {},
   "outputs": [
    {
     "data": {
      "text/html": [
       "<div>\n",
       "<style scoped>\n",
       "    .dataframe tbody tr th:only-of-type {\n",
       "        vertical-align: middle;\n",
       "    }\n",
       "\n",
       "    .dataframe tbody tr th {\n",
       "        vertical-align: top;\n",
       "    }\n",
       "\n",
       "    .dataframe thead th {\n",
       "        text-align: right;\n",
       "    }\n",
       "</style>\n",
       "<table border=\"1\" class=\"dataframe\">\n",
       "  <thead>\n",
       "    <tr style=\"text-align: right;\">\n",
       "      <th></th>\n",
       "      <th>Year</th>\n",
       "      <th>State</th>\n",
       "      <th>Index</th>\n",
       "      <th>Unemployment Rate (15+)</th>\n",
       "    </tr>\n",
       "  </thead>\n",
       "  <tbody>\n",
       "    <tr>\n",
       "      <th>0</th>\n",
       "      <td>2005</td>\n",
       "      <td>Australia</td>\n",
       "      <td>71.700</td>\n",
       "      <td>3.422536</td>\n",
       "    </tr>\n",
       "    <tr>\n",
       "      <th>1</th>\n",
       "      <td>2005</td>\n",
       "      <td>Australian Capital Territory</td>\n",
       "      <td>71.700</td>\n",
       "      <td>3.422536</td>\n",
       "    </tr>\n",
       "    <tr>\n",
       "      <th>2</th>\n",
       "      <td>2005</td>\n",
       "      <td>New South Wales</td>\n",
       "      <td>81.800</td>\n",
       "      <td>5.293757</td>\n",
       "    </tr>\n",
       "    <tr>\n",
       "      <th>3</th>\n",
       "      <td>2005</td>\n",
       "      <td>Queensland</td>\n",
       "      <td>75.000</td>\n",
       "      <td>4.863610</td>\n",
       "    </tr>\n",
       "    <tr>\n",
       "      <th>4</th>\n",
       "      <td>2005</td>\n",
       "      <td>South Australia</td>\n",
       "      <td>71.600</td>\n",
       "      <td>4.868181</td>\n",
       "    </tr>\n",
       "    <tr>\n",
       "      <th>5</th>\n",
       "      <td>2005</td>\n",
       "      <td>Tasmania</td>\n",
       "      <td>79.100</td>\n",
       "      <td>5.962563</td>\n",
       "    </tr>\n",
       "    <tr>\n",
       "      <th>6</th>\n",
       "      <td>2005</td>\n",
       "      <td>Victoria</td>\n",
       "      <td>64.000</td>\n",
       "      <td>5.260037</td>\n",
       "    </tr>\n",
       "    <tr>\n",
       "      <th>7</th>\n",
       "      <td>2005</td>\n",
       "      <td>Western Australia</td>\n",
       "      <td>70.000</td>\n",
       "      <td>4.326411</td>\n",
       "    </tr>\n",
       "    <tr>\n",
       "      <th>8</th>\n",
       "      <td>2006</td>\n",
       "      <td>Australia</td>\n",
       "      <td>74.975</td>\n",
       "      <td>3.043238</td>\n",
       "    </tr>\n",
       "    <tr>\n",
       "      <th>9</th>\n",
       "      <td>2006</td>\n",
       "      <td>Australian Capital Territory</td>\n",
       "      <td>74.975</td>\n",
       "      <td>3.043238</td>\n",
       "    </tr>\n",
       "  </tbody>\n",
       "</table>\n",
       "</div>"
      ],
      "text/plain": [
       "   Year                         State   Index  Unemployment Rate (15+)\n",
       "0  2005                     Australia  71.700                 3.422536\n",
       "1  2005  Australian Capital Territory  71.700                 3.422536\n",
       "2  2005               New South Wales  81.800                 5.293757\n",
       "3  2005                    Queensland  75.000                 4.863610\n",
       "4  2005               South Australia  71.600                 4.868181\n",
       "5  2005                      Tasmania  79.100                 5.962563\n",
       "6  2005                      Victoria  64.000                 5.260037\n",
       "7  2005             Western Australia  70.000                 4.326411\n",
       "8  2006                     Australia  74.975                 3.043238\n",
       "9  2006  Australian Capital Territory  74.975                 3.043238"
      ]
     },
     "execution_count": 80,
     "metadata": {},
     "output_type": "execute_result"
    }
   ],
   "source": [
    "hpi_ur_df.head(10)"
   ]
  },
  {
   "cell_type": "code",
   "execution_count": 81,
   "metadata": {},
   "outputs": [
    {
     "data": {
      "text/html": [
       "<div>\n",
       "<style scoped>\n",
       "    .dataframe tbody tr th:only-of-type {\n",
       "        vertical-align: middle;\n",
       "    }\n",
       "\n",
       "    .dataframe tbody tr th {\n",
       "        vertical-align: top;\n",
       "    }\n",
       "\n",
       "    .dataframe thead th {\n",
       "        text-align: right;\n",
       "    }\n",
       "</style>\n",
       "<table border=\"1\" class=\"dataframe\">\n",
       "  <thead>\n",
       "    <tr style=\"text-align: right;\">\n",
       "      <th></th>\n",
       "      <th>Year</th>\n",
       "      <th>State</th>\n",
       "      <th>Index</th>\n",
       "      <th>Unemployment Rate (15+)</th>\n",
       "    </tr>\n",
       "  </thead>\n",
       "  <tbody>\n",
       "    <tr>\n",
       "      <th>5</th>\n",
       "      <td>2005</td>\n",
       "      <td>Tasmania</td>\n",
       "      <td>79.100</td>\n",
       "      <td>5.962563</td>\n",
       "    </tr>\n",
       "    <tr>\n",
       "      <th>13</th>\n",
       "      <td>2006</td>\n",
       "      <td>Tasmania</td>\n",
       "      <td>83.775</td>\n",
       "      <td>6.384176</td>\n",
       "    </tr>\n",
       "    <tr>\n",
       "      <th>21</th>\n",
       "      <td>2007</td>\n",
       "      <td>Tasmania</td>\n",
       "      <td>91.600</td>\n",
       "      <td>5.229338</td>\n",
       "    </tr>\n",
       "    <tr>\n",
       "      <th>29</th>\n",
       "      <td>2008</td>\n",
       "      <td>Tasmania</td>\n",
       "      <td>94.075</td>\n",
       "      <td>4.417431</td>\n",
       "    </tr>\n",
       "    <tr>\n",
       "      <th>37</th>\n",
       "      <td>2009</td>\n",
       "      <td>Tasmania</td>\n",
       "      <td>98.150</td>\n",
       "      <td>5.013183</td>\n",
       "    </tr>\n",
       "    <tr>\n",
       "      <th>45</th>\n",
       "      <td>2010</td>\n",
       "      <td>Tasmania</td>\n",
       "      <td>104.900</td>\n",
       "      <td>5.581793</td>\n",
       "    </tr>\n",
       "    <tr>\n",
       "      <th>53</th>\n",
       "      <td>2011</td>\n",
       "      <td>Tasmania</td>\n",
       "      <td>102.825</td>\n",
       "      <td>5.474581</td>\n",
       "    </tr>\n",
       "    <tr>\n",
       "      <th>61</th>\n",
       "      <td>2012</td>\n",
       "      <td>Tasmania</td>\n",
       "      <td>98.525</td>\n",
       "      <td>7.137489</td>\n",
       "    </tr>\n",
       "    <tr>\n",
       "      <th>69</th>\n",
       "      <td>2013</td>\n",
       "      <td>Tasmania</td>\n",
       "      <td>101.075</td>\n",
       "      <td>7.917654</td>\n",
       "    </tr>\n",
       "    <tr>\n",
       "      <th>77</th>\n",
       "      <td>2014</td>\n",
       "      <td>Tasmania</td>\n",
       "      <td>104.350</td>\n",
       "      <td>7.276178</td>\n",
       "    </tr>\n",
       "    <tr>\n",
       "      <th>85</th>\n",
       "      <td>2015</td>\n",
       "      <td>Tasmania</td>\n",
       "      <td>105.700</td>\n",
       "      <td>6.501241</td>\n",
       "    </tr>\n",
       "  </tbody>\n",
       "</table>\n",
       "</div>"
      ],
      "text/plain": [
       "    Year     State    Index  Unemployment Rate (15+)\n",
       "5   2005  Tasmania   79.100                 5.962563\n",
       "13  2006  Tasmania   83.775                 6.384176\n",
       "21  2007  Tasmania   91.600                 5.229338\n",
       "29  2008  Tasmania   94.075                 4.417431\n",
       "37  2009  Tasmania   98.150                 5.013183\n",
       "45  2010  Tasmania  104.900                 5.581793\n",
       "53  2011  Tasmania  102.825                 5.474581\n",
       "61  2012  Tasmania   98.525                 7.137489\n",
       "69  2013  Tasmania  101.075                 7.917654\n",
       "77  2014  Tasmania  104.350                 7.276178\n",
       "85  2015  Tasmania  105.700                 6.501241"
      ]
     },
     "execution_count": 81,
     "metadata": {},
     "output_type": "execute_result"
    }
   ],
   "source": [
    "hpi_ur_df[hpi_ur_df['State'] == 'Tasmania']"
   ]
  },
  {
   "cell_type": "code",
   "execution_count": 82,
   "metadata": {},
   "outputs": [],
   "source": [
    "hpi_df = hpi_ur_df.pivot(index='Year', columns='State', values=['Index']).reset_index()\n",
    "ur_df = hpi_ur_df.pivot(index='Year', columns='State', values=['Unemployment Rate (15+)']).reset_index()"
   ]
  },
  {
   "cell_type": "code",
   "execution_count": 83,
   "metadata": {},
   "outputs": [],
   "source": [
    "#del hpi_df\n",
    "#del ur_df"
   ]
  },
  {
   "cell_type": "markdown",
   "metadata": {},
   "source": [
    "<b>Need to remove the Unemployment Rate and Index Column Name </b>"
   ]
  },
  {
   "cell_type": "code",
   "execution_count": 84,
   "metadata": {},
   "outputs": [],
   "source": [
    "#https://stackoverflow.com/questions/57661237/how-can-remove-a-column-name-label-from-a-pivot-table-and-remaining-column-names\n",
    "\n",
    "#https://stackoverflow.com/questions/14507794/pandas-how-to-flatten-a-hierarchical-index-in-columns\n",
    "\n",
    "# hpi_df\n",
    "\n",
    "# replace the bottom column with year \n",
    "hpi_df = hpi_df.rename(columns={\"\":\"Year\"})\n",
    "\n",
    "#get column bottom\n",
    "hpi_df.columns = hpi_df.columns.get_level_values(1)\n"
   ]
  },
  {
   "cell_type": "code",
   "execution_count": 85,
   "metadata": {},
   "outputs": [],
   "source": [
    "# ur_df\n",
    "\n",
    "# replace the bottom column with year \n",
    "ur_df = ur_df.rename(columns={\"\":\"Year\"})\n",
    "\n",
    "#get column bottom\n",
    "ur_df.columns = hpi_df.columns.get_level_values(0)\n"
   ]
  },
  {
   "cell_type": "code",
   "execution_count": 86,
   "metadata": {},
   "outputs": [
    {
     "data": {
      "text/html": [
       "<div>\n",
       "<style scoped>\n",
       "    .dataframe tbody tr th:only-of-type {\n",
       "        vertical-align: middle;\n",
       "    }\n",
       "\n",
       "    .dataframe tbody tr th {\n",
       "        vertical-align: top;\n",
       "    }\n",
       "\n",
       "    .dataframe thead th {\n",
       "        text-align: right;\n",
       "    }\n",
       "</style>\n",
       "<table border=\"1\" class=\"dataframe\">\n",
       "  <thead>\n",
       "    <tr style=\"text-align: right;\">\n",
       "      <th>State</th>\n",
       "      <th>Year</th>\n",
       "      <th>Australia</th>\n",
       "      <th>Australian Capital Territory</th>\n",
       "      <th>New South Wales</th>\n",
       "      <th>Queensland</th>\n",
       "      <th>South Australia</th>\n",
       "      <th>Tasmania</th>\n",
       "      <th>Victoria</th>\n",
       "      <th>Western Australia</th>\n",
       "    </tr>\n",
       "  </thead>\n",
       "  <tbody>\n",
       "    <tr>\n",
       "      <th>0</th>\n",
       "      <td>2005</td>\n",
       "      <td>71.700</td>\n",
       "      <td>71.700</td>\n",
       "      <td>81.800</td>\n",
       "      <td>75.000</td>\n",
       "      <td>71.600</td>\n",
       "      <td>79.100</td>\n",
       "      <td>64.000</td>\n",
       "      <td>70.000</td>\n",
       "    </tr>\n",
       "    <tr>\n",
       "      <th>1</th>\n",
       "      <td>2006</td>\n",
       "      <td>74.975</td>\n",
       "      <td>74.975</td>\n",
       "      <td>81.950</td>\n",
       "      <td>78.025</td>\n",
       "      <td>73.775</td>\n",
       "      <td>83.775</td>\n",
       "      <td>67.550</td>\n",
       "      <td>88.875</td>\n",
       "    </tr>\n",
       "    <tr>\n",
       "      <th>2</th>\n",
       "      <td>2007</td>\n",
       "      <td>83.875</td>\n",
       "      <td>83.875</td>\n",
       "      <td>85.900</td>\n",
       "      <td>91.025</td>\n",
       "      <td>84.475</td>\n",
       "      <td>91.600</td>\n",
       "      <td>77.800</td>\n",
       "      <td>99.175</td>\n",
       "    </tr>\n",
       "    <tr>\n",
       "      <th>3</th>\n",
       "      <td>2008</td>\n",
       "      <td>86.750</td>\n",
       "      <td>86.750</td>\n",
       "      <td>86.500</td>\n",
       "      <td>98.800</td>\n",
       "      <td>94.100</td>\n",
       "      <td>94.075</td>\n",
       "      <td>84.125</td>\n",
       "      <td>96.325</td>\n",
       "    </tr>\n",
       "    <tr>\n",
       "      <th>4</th>\n",
       "      <td>2009</td>\n",
       "      <td>91.050</td>\n",
       "      <td>91.050</td>\n",
       "      <td>89.625</td>\n",
       "      <td>100.550</td>\n",
       "      <td>96.825</td>\n",
       "      <td>98.150</td>\n",
       "      <td>90.125</td>\n",
       "      <td>97.175</td>\n",
       "    </tr>\n",
       "  </tbody>\n",
       "</table>\n",
       "</div>"
      ],
      "text/plain": [
       "State  Year  Australia  Australian Capital Territory  New South Wales  \\\n",
       "0      2005     71.700                        71.700           81.800   \n",
       "1      2006     74.975                        74.975           81.950   \n",
       "2      2007     83.875                        83.875           85.900   \n",
       "3      2008     86.750                        86.750           86.500   \n",
       "4      2009     91.050                        91.050           89.625   \n",
       "\n",
       "State  Queensland  South Australia  Tasmania  Victoria  Western Australia  \n",
       "0          75.000           71.600    79.100    64.000             70.000  \n",
       "1          78.025           73.775    83.775    67.550             88.875  \n",
       "2          91.025           84.475    91.600    77.800             99.175  \n",
       "3          98.800           94.100    94.075    84.125             96.325  \n",
       "4         100.550           96.825    98.150    90.125             97.175  "
      ]
     },
     "execution_count": 86,
     "metadata": {},
     "output_type": "execute_result"
    }
   ],
   "source": [
    "hpi_df.head(5)"
   ]
  },
  {
   "cell_type": "code",
   "execution_count": 87,
   "metadata": {},
   "outputs": [
    {
     "data": {
      "text/html": [
       "<div>\n",
       "<style scoped>\n",
       "    .dataframe tbody tr th:only-of-type {\n",
       "        vertical-align: middle;\n",
       "    }\n",
       "\n",
       "    .dataframe tbody tr th {\n",
       "        vertical-align: top;\n",
       "    }\n",
       "\n",
       "    .dataframe thead th {\n",
       "        text-align: right;\n",
       "    }\n",
       "</style>\n",
       "<table border=\"1\" class=\"dataframe\">\n",
       "  <thead>\n",
       "    <tr style=\"text-align: right;\">\n",
       "      <th>State</th>\n",
       "      <th>Year</th>\n",
       "      <th>Australia</th>\n",
       "      <th>Australian Capital Territory</th>\n",
       "      <th>New South Wales</th>\n",
       "      <th>Queensland</th>\n",
       "      <th>South Australia</th>\n",
       "      <th>Tasmania</th>\n",
       "      <th>Victoria</th>\n",
       "      <th>Western Australia</th>\n",
       "    </tr>\n",
       "  </thead>\n",
       "  <tbody>\n",
       "    <tr>\n",
       "      <th>0</th>\n",
       "      <td>2005</td>\n",
       "      <td>3.422536</td>\n",
       "      <td>3.422536</td>\n",
       "      <td>5.293757</td>\n",
       "      <td>4.863610</td>\n",
       "      <td>4.868181</td>\n",
       "      <td>5.962563</td>\n",
       "      <td>5.260037</td>\n",
       "      <td>4.326411</td>\n",
       "    </tr>\n",
       "    <tr>\n",
       "      <th>1</th>\n",
       "      <td>2006</td>\n",
       "      <td>3.043238</td>\n",
       "      <td>3.043238</td>\n",
       "      <td>5.069919</td>\n",
       "      <td>4.458506</td>\n",
       "      <td>5.001567</td>\n",
       "      <td>6.384176</td>\n",
       "      <td>4.929269</td>\n",
       "      <td>3.507984</td>\n",
       "    </tr>\n",
       "    <tr>\n",
       "      <th>2</th>\n",
       "      <td>2007</td>\n",
       "      <td>2.766634</td>\n",
       "      <td>2.766634</td>\n",
       "      <td>4.708354</td>\n",
       "      <td>3.708394</td>\n",
       "      <td>4.857289</td>\n",
       "      <td>5.229338</td>\n",
       "      <td>4.652167</td>\n",
       "      <td>3.297241</td>\n",
       "    </tr>\n",
       "    <tr>\n",
       "      <th>3</th>\n",
       "      <td>2008</td>\n",
       "      <td>2.683098</td>\n",
       "      <td>2.683098</td>\n",
       "      <td>4.758239</td>\n",
       "      <td>3.740968</td>\n",
       "      <td>5.057074</td>\n",
       "      <td>4.417431</td>\n",
       "      <td>4.538744</td>\n",
       "      <td>3.053289</td>\n",
       "    </tr>\n",
       "    <tr>\n",
       "      <th>4</th>\n",
       "      <td>2009</td>\n",
       "      <td>3.509424</td>\n",
       "      <td>3.509424</td>\n",
       "      <td>6.104534</td>\n",
       "      <td>5.573159</td>\n",
       "      <td>5.556539</td>\n",
       "      <td>5.013183</td>\n",
       "      <td>5.717117</td>\n",
       "      <td>5.232996</td>\n",
       "    </tr>\n",
       "  </tbody>\n",
       "</table>\n",
       "</div>"
      ],
      "text/plain": [
       "State  Year  Australia  Australian Capital Territory  New South Wales  \\\n",
       "0      2005   3.422536                      3.422536         5.293757   \n",
       "1      2006   3.043238                      3.043238         5.069919   \n",
       "2      2007   2.766634                      2.766634         4.708354   \n",
       "3      2008   2.683098                      2.683098         4.758239   \n",
       "4      2009   3.509424                      3.509424         6.104534   \n",
       "\n",
       "State  Queensland  South Australia  Tasmania  Victoria  Western Australia  \n",
       "0        4.863610         4.868181  5.962563  5.260037           4.326411  \n",
       "1        4.458506         5.001567  6.384176  4.929269           3.507984  \n",
       "2        3.708394         4.857289  5.229338  4.652167           3.297241  \n",
       "3        3.740968         5.057074  4.417431  4.538744           3.053289  \n",
       "4        5.573159         5.556539  5.013183  5.717117           5.232996  "
      ]
     },
     "execution_count": 87,
     "metadata": {},
     "output_type": "execute_result"
    }
   ],
   "source": [
    "ur_df.head(5)"
   ]
  },
  {
   "cell_type": "code",
   "execution_count": 88,
   "metadata": {},
   "outputs": [
    {
     "data": {
      "image/png": "[encoded data removed]",
      "text/plain": [
       "<Figure size 1080x720 with 1 Axes>"
      ]
     },
     "metadata": {},
     "output_type": "display_data"
    }
   ],
   "source": [
    "fig = plt.figure(figsize=(15,10))\n",
    "ax = fig.add_subplot(111)\n",
    "\n",
    "plt.title('House Price Index')\n",
    "plt.plot(hpi_df['Year'],hpi_df['Australia'],label = 'Australia')\n",
    "plt.plot(hpi_df['Year'],hpi_df['Australian Capital Territory'],label = 'Australia Capital Territory')\n",
    "plt.plot(hpi_df['Year'],hpi_df['New South Wales'],label = 'New South Wales')\n",
    "plt.plot(hpi_df['Year'],hpi_df['Queensland'],label = 'Queensland')\n",
    "plt.plot(hpi_df['Year'],hpi_df['South Australia'],label = 'South Australia')\n",
    "plt.plot(hpi_df['Year'],hpi_df['Tasmania'],label = 'Tasmania')\n",
    "plt.plot(hpi_df['Year'],hpi_df['Victoria'],label = 'Victoria')\n",
    "plt.plot(hpi_df['Year'],hpi_df['Western Australia'],label = 'Western Australia')\n",
    "\n",
    "ax.legend()\n",
    "plt.show()"
   ]
  },
  {
   "cell_type": "code",
   "execution_count": 89,
   "metadata": {},
   "outputs": [
    {
     "data": {
      "image/png": "[encoded data removed]",
      "text/plain": [
       "<Figure size 1080x720 with 1 Axes>"
      ]
     },
     "metadata": {},
     "output_type": "display_data"
    }
   ],
   "source": [
    "fig = plt.figure(figsize=(15,10))\n",
    "ax = fig.add_subplot(111)\n",
    "\n",
    "plt.title('Unemployment in Australia')\n",
    "plt.plot(ur_df['Year'],ur_df['Australia'],label = 'Australia')\n",
    "plt.plot(ur_df['Year'],ur_df['Australian Capital Territory'],label = 'Australia Capital Territory')\n",
    "plt.plot(ur_df['Year'],ur_df['New South Wales'],label = 'New South Wales')\n",
    "plt.plot(ur_df['Year'],ur_df['Queensland'],label = 'Queensland')\n",
    "plt.plot(ur_df['Year'],ur_df['South Australia'],label = 'South Australia')\n",
    "plt.plot(ur_df['Year'],ur_df['Tasmania'],label = 'Tasmania')\n",
    "plt.plot(ur_df['Year'],ur_df['Victoria'],label = 'Victoria')\n",
    "plt.plot(ur_df['Year'],ur_df['Western Australia'],label = 'Western Australia')\n",
    "\n",
    "ax.legend()\n",
    "plt.show()"
   ]
  },
  {
   "cell_type": "markdown",
   "metadata": {},
   "source": [
    "<b>Relationship between Index and Unemployement Rate</b>"
   ]
  },
  {
   "cell_type": "code",
   "execution_count": 90,
   "metadata": {},
   "outputs": [
    {
     "data": {
      "text/html": [
       "<div>\n",
       "<style scoped>\n",
       "    .dataframe tbody tr th:only-of-type {\n",
       "        vertical-align: middle;\n",
       "    }\n",
       "\n",
       "    .dataframe tbody tr th {\n",
       "        vertical-align: top;\n",
       "    }\n",
       "\n",
       "    .dataframe thead th {\n",
       "        text-align: right;\n",
       "    }\n",
       "</style>\n",
       "<table border=\"1\" class=\"dataframe\">\n",
       "  <thead>\n",
       "    <tr style=\"text-align: right;\">\n",
       "      <th></th>\n",
       "      <th>Date</th>\n",
       "      <th>State</th>\n",
       "      <th>Capital City</th>\n",
       "      <th>Population</th>\n",
       "      <th>Index</th>\n",
       "      <th>Alias</th>\n",
       "      <th>State/Territory</th>\n",
       "      <th>Employment Rate (15-64)</th>\n",
       "      <th>Unemployment Rate (15+)</th>\n",
       "      <th>Participation Rate (15+)</th>\n",
       "      <th>Year</th>\n",
       "    </tr>\n",
       "  </thead>\n",
       "  <tbody>\n",
       "    <tr>\n",
       "      <th>0</th>\n",
       "      <td>2005-12-01</td>\n",
       "      <td>Australia</td>\n",
       "      <td>Canberra</td>\n",
       "      <td>40623086</td>\n",
       "      <td>71.7</td>\n",
       "      <td>ACT</td>\n",
       "      <td>ACT</td>\n",
       "      <td>78.393068</td>\n",
       "      <td>3.422536</td>\n",
       "      <td>72.006718</td>\n",
       "      <td>2005</td>\n",
       "    </tr>\n",
       "    <tr>\n",
       "      <th>1</th>\n",
       "      <td>2005-12-01</td>\n",
       "      <td>Australian Capital Territory</td>\n",
       "      <td>Canberra</td>\n",
       "      <td>667010</td>\n",
       "      <td>71.7</td>\n",
       "      <td>ACT</td>\n",
       "      <td>ACT</td>\n",
       "      <td>78.393068</td>\n",
       "      <td>3.422536</td>\n",
       "      <td>72.006718</td>\n",
       "      <td>2005</td>\n",
       "    </tr>\n",
       "    <tr>\n",
       "      <th>2</th>\n",
       "      <td>2005-12-01</td>\n",
       "      <td>New South Wales</td>\n",
       "      <td>Sydney</td>\n",
       "      <td>13436046</td>\n",
       "      <td>81.8</td>\n",
       "      <td>NSW</td>\n",
       "      <td>NSW</td>\n",
       "      <td>70.481740</td>\n",
       "      <td>5.293757</td>\n",
       "      <td>63.106123</td>\n",
       "      <td>2005</td>\n",
       "    </tr>\n",
       "    <tr>\n",
       "      <th>3</th>\n",
       "      <td>2005-12-01</td>\n",
       "      <td>Queensland</td>\n",
       "      <td>Brisbane</td>\n",
       "      <td>7928350</td>\n",
       "      <td>75.0</td>\n",
       "      <td>QLD</td>\n",
       "      <td>QLD</td>\n",
       "      <td>73.205813</td>\n",
       "      <td>4.863610</td>\n",
       "      <td>66.092553</td>\n",
       "      <td>2005</td>\n",
       "    </tr>\n",
       "    <tr>\n",
       "      <th>4</th>\n",
       "      <td>2005-12-01</td>\n",
       "      <td>South Australia</td>\n",
       "      <td>Adelaide</td>\n",
       "      <td>3089704</td>\n",
       "      <td>71.6</td>\n",
       "      <td>SA</td>\n",
       "      <td>SA</td>\n",
       "      <td>71.345997</td>\n",
       "      <td>4.868181</td>\n",
       "      <td>61.820680</td>\n",
       "      <td>2005</td>\n",
       "    </tr>\n",
       "    <tr>\n",
       "      <th>5</th>\n",
       "      <td>2005-12-01</td>\n",
       "      <td>Tasmania</td>\n",
       "      <td>Hobart</td>\n",
       "      <td>976196</td>\n",
       "      <td>79.1</td>\n",
       "      <td>TAS</td>\n",
       "      <td>TAS</td>\n",
       "      <td>67.694544</td>\n",
       "      <td>5.962563</td>\n",
       "      <td>60.743142</td>\n",
       "      <td>2005</td>\n",
       "    </tr>\n",
       "    <tr>\n",
       "      <th>6</th>\n",
       "      <td>2005-12-01</td>\n",
       "      <td>Victoria</td>\n",
       "      <td>Melbourne</td>\n",
       "      <td>10046406</td>\n",
       "      <td>64.0</td>\n",
       "      <td>VIC</td>\n",
       "      <td>VIC</td>\n",
       "      <td>71.806591</td>\n",
       "      <td>5.260037</td>\n",
       "      <td>64.045364</td>\n",
       "      <td>2005</td>\n",
       "    </tr>\n",
       "    <tr>\n",
       "      <th>7</th>\n",
       "      <td>2005-12-01</td>\n",
       "      <td>Western Australia</td>\n",
       "      <td>Perth</td>\n",
       "      <td>4059872</td>\n",
       "      <td>70.0</td>\n",
       "      <td>WA</td>\n",
       "      <td>WA</td>\n",
       "      <td>74.916775</td>\n",
       "      <td>4.326411</td>\n",
       "      <td>68.156198</td>\n",
       "      <td>2005</td>\n",
       "    </tr>\n",
       "    <tr>\n",
       "      <th>8</th>\n",
       "      <td>2006-03-01</td>\n",
       "      <td>Australia</td>\n",
       "      <td>Canberra</td>\n",
       "      <td>40796264</td>\n",
       "      <td>72.5</td>\n",
       "      <td>ACT</td>\n",
       "      <td>ACT</td>\n",
       "      <td>77.310830</td>\n",
       "      <td>3.254369</td>\n",
       "      <td>72.257139</td>\n",
       "      <td>2006</td>\n",
       "    </tr>\n",
       "    <tr>\n",
       "      <th>9</th>\n",
       "      <td>2006-03-01</td>\n",
       "      <td>Australian Capital Territory</td>\n",
       "      <td>Canberra</td>\n",
       "      <td>668598</td>\n",
       "      <td>72.5</td>\n",
       "      <td>ACT</td>\n",
       "      <td>ACT</td>\n",
       "      <td>77.310830</td>\n",
       "      <td>3.254369</td>\n",
       "      <td>72.257139</td>\n",
       "      <td>2006</td>\n",
       "    </tr>\n",
       "  </tbody>\n",
       "</table>\n",
       "</div>"
      ],
      "text/plain": [
       "         Date                         State Capital City  Population  Index  \\\n",
       "0  2005-12-01                     Australia     Canberra    40623086   71.7   \n",
       "1  2005-12-01  Australian Capital Territory     Canberra      667010   71.7   \n",
       "2  2005-12-01               New South Wales       Sydney    13436046   81.8   \n",
       "3  2005-12-01                    Queensland     Brisbane     7928350   75.0   \n",
       "4  2005-12-01               South Australia     Adelaide     3089704   71.6   \n",
       "5  2005-12-01                      Tasmania       Hobart      976196   79.1   \n",
       "6  2005-12-01                      Victoria    Melbourne    10046406   64.0   \n",
       "7  2005-12-01             Western Australia        Perth     4059872   70.0   \n",
       "8  2006-03-01                     Australia     Canberra    40796264   72.5   \n",
       "9  2006-03-01  Australian Capital Territory     Canberra      668598   72.5   \n",
       "\n",
       "  Alias State/Territory  Employment Rate (15-64)  Unemployment Rate (15+)  \\\n",
       "0   ACT             ACT                78.393068                 3.422536   \n",
       "1   ACT             ACT                78.393068                 3.422536   \n",
       "2   NSW             NSW                70.481740                 5.293757   \n",
       "3   QLD             QLD                73.205813                 4.863610   \n",
       "4    SA              SA                71.345997                 4.868181   \n",
       "5   TAS             TAS                67.694544                 5.962563   \n",
       "6   VIC             VIC                71.806591                 5.260037   \n",
       "7    WA              WA                74.916775                 4.326411   \n",
       "8   ACT             ACT                77.310830                 3.254369   \n",
       "9   ACT             ACT                77.310830                 3.254369   \n",
       "\n",
       "   Participation Rate (15+)  Year  \n",
       "0                 72.006718  2005  \n",
       "1                 72.006718  2005  \n",
       "2                 63.106123  2005  \n",
       "3                 66.092553  2005  \n",
       "4                 61.820680  2005  \n",
       "5                 60.743142  2005  \n",
       "6                 64.045364  2005  \n",
       "7                 68.156198  2005  \n",
       "8                 72.257139  2006  \n",
       "9                 72.257139  2006  "
      ]
     },
     "execution_count": 90,
     "metadata": {},
     "output_type": "execute_result"
    }
   ],
   "source": [
    "final_agg_df.head(10)"
   ]
  },
  {
   "cell_type": "code",
   "execution_count": 91,
   "metadata": {},
   "outputs": [],
   "source": [
    "rel_df = final_agg_df.groupby(['Year'])['Index','Unemployment Rate (15+)'].mean().reset_index()"
   ]
  },
  {
   "cell_type": "code",
   "execution_count": 92,
   "metadata": {},
   "outputs": [
    {
     "data": {
      "text/html": [
       "<div>\n",
       "<style scoped>\n",
       "    .dataframe tbody tr th:only-of-type {\n",
       "        vertical-align: middle;\n",
       "    }\n",
       "\n",
       "    .dataframe tbody tr th {\n",
       "        vertical-align: top;\n",
       "    }\n",
       "\n",
       "    .dataframe thead th {\n",
       "        text-align: right;\n",
       "    }\n",
       "</style>\n",
       "<table border=\"1\" class=\"dataframe\">\n",
       "  <thead>\n",
       "    <tr style=\"text-align: right;\">\n",
       "      <th></th>\n",
       "      <th>Year</th>\n",
       "      <th>Index</th>\n",
       "      <th>Unemployment Rate (15+)</th>\n",
       "    </tr>\n",
       "  </thead>\n",
       "  <tbody>\n",
       "    <tr>\n",
       "      <th>0</th>\n",
       "      <td>2005</td>\n",
       "      <td>73.112500</td>\n",
       "      <td>4.677454</td>\n",
       "    </tr>\n",
       "    <tr>\n",
       "      <th>1</th>\n",
       "      <td>2006</td>\n",
       "      <td>77.987500</td>\n",
       "      <td>4.429737</td>\n",
       "    </tr>\n",
       "    <tr>\n",
       "      <th>2</th>\n",
       "      <td>2007</td>\n",
       "      <td>87.215625</td>\n",
       "      <td>3.998256</td>\n",
       "    </tr>\n",
       "    <tr>\n",
       "      <th>3</th>\n",
       "      <td>2008</td>\n",
       "      <td>90.928125</td>\n",
       "      <td>3.866493</td>\n",
       "    </tr>\n",
       "    <tr>\n",
       "      <th>4</th>\n",
       "      <td>2009</td>\n",
       "      <td>94.318750</td>\n",
       "      <td>5.027047</td>\n",
       "    </tr>\n",
       "    <tr>\n",
       "      <th>5</th>\n",
       "      <td>2010</td>\n",
       "      <td>103.665625</td>\n",
       "      <td>4.740899</td>\n",
       "    </tr>\n",
       "    <tr>\n",
       "      <th>6</th>\n",
       "      <td>2011</td>\n",
       "      <td>101.303125</td>\n",
       "      <td>4.773150</td>\n",
       "    </tr>\n",
       "    <tr>\n",
       "      <th>7</th>\n",
       "      <td>2012</td>\n",
       "      <td>100.337500</td>\n",
       "      <td>5.133570</td>\n",
       "    </tr>\n",
       "    <tr>\n",
       "      <th>8</th>\n",
       "      <td>2013</td>\n",
       "      <td>104.462500</td>\n",
       "      <td>5.528334</td>\n",
       "    </tr>\n",
       "    <tr>\n",
       "      <th>9</th>\n",
       "      <td>2014</td>\n",
       "      <td>110.328125</td>\n",
       "      <td>5.827400</td>\n",
       "    </tr>\n",
       "  </tbody>\n",
       "</table>\n",
       "</div>"
      ],
      "text/plain": [
       "   Year       Index  Unemployment Rate (15+)\n",
       "0  2005   73.112500                 4.677454\n",
       "1  2006   77.987500                 4.429737\n",
       "2  2007   87.215625                 3.998256\n",
       "3  2008   90.928125                 3.866493\n",
       "4  2009   94.318750                 5.027047\n",
       "5  2010  103.665625                 4.740899\n",
       "6  2011  101.303125                 4.773150\n",
       "7  2012  100.337500                 5.133570\n",
       "8  2013  104.462500                 5.528334\n",
       "9  2014  110.328125                 5.827400"
      ]
     },
     "execution_count": 92,
     "metadata": {},
     "output_type": "execute_result"
    }
   ],
   "source": [
    "rel_df.head(10)"
   ]
  },
  {
   "cell_type": "code",
   "execution_count": 93,
   "metadata": {},
   "outputs": [
    {
     "data": {
      "image/png": "[encoded data removed]",
      "text/plain": [
       "<Figure size 1080x720 with 2 Axes>"
      ]
     },
     "metadata": {},
     "output_type": "display_data"
    }
   ],
   "source": [
    "# Plot House Price Rate - Unemployment Rate\n",
    "\n",
    "fig = plt.figure(figsize=(15,10))\n",
    "ax1 = fig.add_subplot(111)\n",
    "ax2 = ax1.twinx()\n",
    "\n",
    "ax1.plot(rel_df['Year'], rel_df['Unemployment Rate (15+)'], linewidth=6, linestyle=\"-\", c=\"red\")\n",
    "ax2.plot(rel_df['Year'], rel_df['Index'], linewidth=6, linestyle=\"-\", c=\"blue\")\n",
    "\n",
    "ax1.set_xlabel('Year',fontsize=20)\n",
    "ax1.set_ylabel('Unemployment Rate (15+)',fontsize=20,color='r')\n",
    "ax2.set_ylabel('Index', fontsize=20,color='b')\n",
    "\n",
    "plt.title('House Price Index and Unemployment in Australia',fontsize=20)\n",
    "ax1.grid(True, which='both')\n",
    "ax2.grid(True, which='both')\n",
    "plt.show()"
   ]
  }
 ],
 "metadata": {
  "kernelspec": {
   "display_name": "Python 3",
   "language": "python",
   "name": "python3"
  },
  "language_info": {
   "codemirror_mode": {
    "name": "ipython",
    "version": 3
   },
   "file_extension": ".py",
   "mimetype": "text/x-python",
   "name": "python",
   "nbconvert_exporter": "python",
   "pygments_lexer": "ipython3",
   "version": "3.8.5"
  }
 },
 "nbformat": 4,
 "nbformat_minor": 4
}
